{
  "nbformat": 4,
  "nbformat_minor": 0,
  "metadata": {
    "colab": {
      "name": "WC_pipe (2).ipynb",
      "provenance": [],
      "collapsed_sections": []
    },
    "kernelspec": {
      "name": "python3",
      "display_name": "Python 3"
    }
  },
  "cells": [
    {
      "cell_type": "markdown",
      "metadata": {
        "id": "CosljEhRTuQ0",
        "colab_type": "text"
      },
      "source": [
        "### Predict if a NYS Worker's Compensation claim will close as one of 4 Final Settlement types:\n",
        "\n",
        "* Section 32\n",
        "* PPD Scheduled Loss \n",
        "* PPD Non-Scheduled Loss \n",
        "* PTD\n",
        "\n",
        "- [Link to WC Dataset](https://data.ny.gov/Government-Finance/Assembled-Workers-Compensation-Claims-Beginning-20/jshw-gkgu) Assembled Workers' Compensation Claims: Beginning 2000\n",
        "- [Link to WC Dataset Dictionary](https://data.ny.gov/api/views/6r4d-hp7p/files/15iRqbPHklkRLpJelhaiI96RUWN0flYW5WbADuGuVII?download=true&filename=NYSWCB_ClaimsAssembled_Data_Dictionary.pdf)\n"
      ]
    },
    {
      "cell_type": "code",
      "metadata": {
        "id": "I-vCyVNnV-_q",
        "colab_type": "code",
        "colab": {
          "base_uri": "https://localhost:8080/",
          "height": 72
        },
        "outputId": "d6510e17-c44a-4be8-a8fb-ff74134a600d"
      },
      "source": [
        "import pandas as pd\n",
        "import numpy as np\n",
        "import matplotlib.pyplot as plt\n",
        "%matplotlib inline\n",
        "import seaborn as sns\n",
        "import feather\n",
        "pd.set_option('display.max_columns', None)\n",
        "pd.set_option('display.max_rows', None)"
      ],
      "execution_count": 1,
      "outputs": [
        {
          "output_type": "stream",
          "text": [
            "/usr/local/lib/python3.6/dist-packages/statsmodels/tools/_testing.py:19: FutureWarning: pandas.util.testing is deprecated. Use the functions in the public API at pandas.testing instead.\n",
            "  import pandas.util.testing as tm\n"
          ],
          "name": "stderr"
        }
      ]
    },
    {
      "cell_type": "code",
      "metadata": {
        "id": "RNNQ6DF7WXPB",
        "colab_type": "code",
        "colab": {
          "base_uri": "https://localhost:8080/",
          "height": 34
        },
        "outputId": "71e5f5a0-90f6-4d93-80d4-1028486b8fa4"
      },
      "source": [
        "# only read in first 100000 rows == 2% of total dataset rows from WC Dataset\n",
        "df=pd.read_feather('df_partwc.ftr') \n",
        "df.shape"
      ],
      "execution_count": 2,
      "outputs": [
        {
          "output_type": "execute_result",
          "data": {
            "text/plain": [
              "(100000, 52)"
            ]
          },
          "metadata": {
            "tags": []
          },
          "execution_count": 2
        }
      ]
    },
    {
      "cell_type": "code",
      "metadata": {
        "id": "1PPhMp0tWzj_",
        "colab_type": "code",
        "colab": {
          "base_uri": "https://localhost:8080/",
          "height": 1000
        },
        "outputId": "076b141a-a89a-41e8-ec87-ba512ba768cc"
      },
      "source": [
        "df.info()"
      ],
      "execution_count": 3,
      "outputs": [
        {
          "output_type": "stream",
          "text": [
            "<class 'pandas.core.frame.DataFrame'>\n",
            "RangeIndex: 100000 entries, 0 to 99999\n",
            "Data columns (total 52 columns):\n",
            " #   Column                              Non-Null Count   Dtype  \n",
            "---  ------                              --------------   -----  \n",
            " 0   Unnamed: 0                          100000 non-null  int64  \n",
            " 1   Claim Identifier                    100000 non-null  int64  \n",
            " 2   Claim Type                          100000 non-null  object \n",
            " 3   District Name                       100000 non-null  object \n",
            " 4   Average Weekly Wage                 100000 non-null  object \n",
            " 5   Current Claim Status                100000 non-null  object \n",
            " 6   Claim Injury Type                   100000 non-null  object \n",
            " 7   Age at Injury                       100000 non-null  int64  \n",
            " 8   Assembly Date                       100000 non-null  object \n",
            " 9   Accident Date                       98848 non-null   object \n",
            " 10  ANCR Date                           43025 non-null   object \n",
            " 11  Controverted Date                   8107 non-null    object \n",
            " 12  Section 32 Date                     4892 non-null    object \n",
            " 13  PPD Scheduled Loss Date             9183 non-null    object \n",
            " 14  PPD Non-Scheduled Loss Date         2225 non-null    object \n",
            " 15  PTD Date                            214 non-null     object \n",
            " 16  First Appeal Date                   4155 non-null    object \n",
            " 17  WCIO Part Of Body Code              51808 non-null   float64\n",
            " 18  WCIO Part Of Body Description       51808 non-null   object \n",
            " 19  WCIO Nature of Injury Code          51316 non-null   float64\n",
            " 20  WCIO Nature of Injury Description   51316 non-null   object \n",
            " 21  WCIO Cause of Injury Code           51395 non-null   float64\n",
            " 22  WCIO Cause of Injury Description    51395 non-null   object \n",
            " 23  OIICS Part Of Body Code             22941 non-null   object \n",
            " 24  OIICS Part Of Body Description      22941 non-null   object \n",
            " 25  OIICS Nature of Injury Code         22941 non-null   object \n",
            " 26  OIICS Nature of Injury Description  22941 non-null   object \n",
            " 27  OIICS Injury Source Code            22939 non-null   object \n",
            " 28  OIICS Injury Source Description     22939 non-null   object \n",
            " 29  OIICS Event Exposure Code           22940 non-null   object \n",
            " 30  OIICS Event Exposure Description    22940 non-null   object \n",
            " 31  OIICS Secondary Source Code         22936 non-null   object \n",
            " 32  OIICS Secondary Source Description  22936 non-null   object \n",
            " 33  Alternative Dispute Resolution      100000 non-null  object \n",
            " 34  Gender                              100000 non-null  object \n",
            " 35  Birth Year                          100000 non-null  int64  \n",
            " 36  Zip Code                            100000 non-null  object \n",
            " 37  Medical Fee Region                  100000 non-null  object \n",
            " 38  C-2 Date                            36959 non-null   object \n",
            " 39  C-3 Date                            37899 non-null   object \n",
            " 40  First Hearing Date                  32164 non-null   object \n",
            " 41  Highest Process                     100000 non-null  object \n",
            " 42  Hearing Count                       100000 non-null  int64  \n",
            " 43  Closed Count                        100000 non-null  int64  \n",
            " 44  Attorney/Representative             100000 non-null  object \n",
            " 45  Carrier Name                        100000 non-null  object \n",
            " 46  Carrier Type                        100000 non-null  object \n",
            " 47  IME-4 Count                         24872 non-null   float64\n",
            " 48  Interval Assembled to ANCR          43025 non-null   object \n",
            " 49  Accident                            100000 non-null  object \n",
            " 50  Occupational Disease                100000 non-null  object \n",
            " 51  County of Injury                    100000 non-null  object \n",
            "dtypes: float64(4), int64(6), object(42)\n",
            "memory usage: 39.7+ MB\n"
          ],
          "name": "stdout"
        }
      ]
    },
    {
      "cell_type": "code",
      "metadata": {
        "id": "qV8yPwO2ERO-",
        "colab_type": "code",
        "colab": {
          "base_uri": "https://localhost:8080/",
          "height": 34
        },
        "outputId": "9244b890-5dcc-45a1-8850-5f6475dc2a79"
      },
      "source": [
        "df.shape\n",
        "# (100000, 52)"
      ],
      "execution_count": null,
      "outputs": [
        {
          "output_type": "execute_result",
          "data": {
            "text/plain": [
              "(100000, 52)"
            ]
          },
          "metadata": {
            "tags": []
          },
          "execution_count": 34
        }
      ]
    },
    {
      "cell_type": "code",
      "metadata": {
        "id": "fBZCwTPWEVBL",
        "colab_type": "code",
        "colab": {
          "base_uri": "https://localhost:8080/",
          "height": 105
        },
        "outputId": "f4cf6538-95b8-422a-cf6c-0607f4c2e657"
      },
      "source": [
        "#show the # of each type of settlement in dataset/ % of claims in sample dataset settled under each type\n",
        "disp_cols=['Section 32 Date','PPD Scheduled Loss Date','PPD Non-Scheduled Loss Date','PTD Date']\n",
        "\n",
        "(df[disp_cols].notnull().sum()/100000)*100\n",
        "# Section 32 Date                4892\n",
        "# PPD Scheduled Loss Date        9183\n",
        "# PPD Non-Scheduled Loss Date    2225\n",
        "# PTD Date                        214\n",
        "# dtype: int64\n",
        "# Total:                        16514\n",
        "\n",
        "# Section 32 Date                4.892\n",
        "# PPD Scheduled Loss Date        9.183\n",
        "# PPD Non-Scheduled Loss Date    2.225\n",
        "# PTD Date                       0.214\n",
        "# dtype: float64"
      ],
      "execution_count": 37,
      "outputs": [
        {
          "output_type": "execute_result",
          "data": {
            "text/plain": [
              "Section 32 Date                4.892\n",
              "PPD Scheduled Loss Date        9.183\n",
              "PPD Non-Scheduled Loss Date    2.225\n",
              "PTD Date                       0.214\n",
              "dtype: float64"
            ]
          },
          "metadata": {
            "tags": []
          },
          "execution_count": 37
        }
      ]
    },
    {
      "cell_type": "markdown",
      "metadata": {
        "id": "Dr-leiF3H3D-",
        "colab_type": "text"
      },
      "source": [
        "### Create target by combining the 4 types of final WC claim dispositions into one column"
      ]
    },
    {
      "cell_type": "code",
      "metadata": {
        "id": "rPqbmfcJ_F0J",
        "colab_type": "code",
        "colab": {}
      },
      "source": [
        "# Create a Final disposition column to use as target- combines all final disposition classes into one column\n",
        "# Create a Final disposition date column - combines all final disposition dates into one column\n",
        "# Create a Days_Accid_Final column = days claim opened from date of accident to final disposition date\n",
        "# Create a Days_Assemb_Final column = days claim opened from date of assembly to final disposition date\n",
        "from create_cols import add_cols_df, combine_disposition_cols\n",
        "\n",
        "# created new dataframe with 4 new columns\n",
        "new_cols=['Final_disposition', 'Final_disposition_Date', 'Days_Accid_Final', 'Days_Assemb_Final']\n",
        "\n",
        "disp_df = add_cols_df(df, new_cols)\n",
        "\n",
        "# disp_df.shape\n",
        "# (99975, 56)"
      ],
      "execution_count": 5,
      "outputs": []
    },
    {
      "cell_type": "code",
      "metadata": {
        "id": "rHlBdyN6Jm03",
        "colab_type": "code",
        "colab": {
          "base_uri": "https://localhost:8080/",
          "height": 228
        },
        "outputId": "c50d4863-e685-4b1a-85cb-22d9b7ed7c75"
      },
      "source": [
        "# gets all rows with a certain type of final disposition that is not null and adds the disposition date to new col and type of disposition \n",
        "# string to Final Disposition\n",
        "ppd_df = combine_disposition_cols(disp_df, 'PPD Non-Scheduled Loss Date', 'Final_disposition_Date', 'Final_disposition','PPD')\n",
        "slu_df = combine_disposition_cols(disp_df, 'PPD Scheduled Loss Date', 'Final_disposition_Date', 'Final_disposition','SLU')\n",
        "s32_df = combine_disposition_cols(disp_df, 'Section 32 Date', 'Final_disposition_Date', 'Final_disposition','S32')\n",
        "ptd_df = combine_disposition_cols(disp_df, 'PTD Date', 'Final_disposition_Date', 'Final_disposition','PTD')"
      ],
      "execution_count": 6,
      "outputs": [
        {
          "output_type": "stream",
          "text": [
            "/content/create_cols.py:28: SettingWithCopyWarning: \n",
            "A value is trying to be set on a copy of a slice from a DataFrame.\n",
            "Try using .loc[row_indexer,col_indexer] = value instead\n",
            "\n",
            "See the caveats in the documentation: https://pandas.pydata.org/pandas-docs/stable/user_guide/indexing.html#returning-a-view-versus-a-copy\n",
            "  select_df[combdate_col]=select_df[date_col]\n",
            "/content/create_cols.py:29: SettingWithCopyWarning: \n",
            "A value is trying to be set on a copy of a slice from a DataFrame.\n",
            "Try using .loc[row_indexer,col_indexer] = value instead\n",
            "\n",
            "See the caveats in the documentation: https://pandas.pydata.org/pandas-docs/stable/user_guide/indexing.html#returning-a-view-versus-a-copy\n",
            "  select_df[disp_word_col]=disp_word\n"
          ],
          "name": "stderr"
        }
      ]
    },
    {
      "cell_type": "code",
      "metadata": {
        "id": "Pd45NejpJ8LL",
        "colab_type": "code",
        "colab": {
          "base_uri": "https://localhost:8080/",
          "height": 34
        },
        "outputId": "5c79c4b1-5285-4b40-c9ac-d18f736e58e1"
      },
      "source": [
        "print(ppd_df.shape,slu_df.shape,s32_df.shape,ptd_df.shape)\n",
        "# (2225, 54) (9183, 54) (4892, 54) (214, 54)"
      ],
      "execution_count": null,
      "outputs": [
        {
          "output_type": "stream",
          "text": [
            "(2225, 56) (9183, 56) (4892, 56) (214, 56)\n"
          ],
          "name": "stdout"
        }
      ]
    },
    {
      "cell_type": "code",
      "metadata": {
        "id": "x6wlm6OmKUEc",
        "colab_type": "code",
        "colab": {}
      },
      "source": [
        "# combine original df with ppd_df,slu_df,s32_df and ptd_df\n",
        "comb_disp_df = pd.concat([disp_df,s32_df,slu_df,ppd_df,ptd_df],ignore_index=True,axis=0)"
      ],
      "execution_count": 9,
      "outputs": []
    },
    {
      "cell_type": "code",
      "metadata": {
        "id": "AN_TTFflKzFO",
        "colab_type": "code",
        "colab": {
          "base_uri": "https://localhost:8080/",
          "height": 34
        },
        "outputId": "d9f2714c-38c2-43fa-9338-5386f53b3d30"
      },
      "source": [
        "#drop original disposition rows from combined disp df by index\n",
        "from getidx import get_df_idx\n",
        "dfs=[s32_df,slu_df,ppd_df,ptd_df]\n",
        "\n",
        "# get indexes of disp dfs \n",
        "idx_droplist= get_df_idx(dfs)\n",
        "idx_droplist\n",
        "\n",
        "comb_disp_df.drop(labels=idx_droplist, axis=0, inplace= True)\n",
        "comb_disp_df.shape\n",
        "# (100983, 56)"
      ],
      "execution_count": 8,
      "outputs": [
        {
          "output_type": "execute_result",
          "data": {
            "text/plain": [
              "(100983, 56)"
            ]
          },
          "metadata": {
            "tags": []
          },
          "execution_count": 8
        }
      ]
    },
    {
      "cell_type": "markdown",
      "metadata": {
        "id": "3P-s0I72H2j3",
        "colab_type": "text"
      },
      "source": [
        "### Select only rows with final dispositions"
      ]
    },
    {
      "cell_type": "code",
      "metadata": {
        "id": "dELQWcC-NlSZ",
        "colab_type": "code",
        "colab": {}
      },
      "source": [
        "final_df= comb_disp_df[comb_disp_df['Final_disposition'].notnull()]\n",
        "# final_df.shape\n",
        "# (16509, 56)"
      ],
      "execution_count": 10,
      "outputs": []
    },
    {
      "cell_type": "code",
      "metadata": {
        "id": "9beZVVN-u3BT",
        "colab_type": "code",
        "colab": {
          "base_uri": "https://localhost:8080/",
          "height": 34
        },
        "outputId": "11ff77b9-f208-4bd0-cf72-bb421648fafc"
      },
      "source": [
        "final_df.Days_Accid_Final.isnull().sum()"
      ],
      "execution_count": null,
      "outputs": [
        {
          "output_type": "execute_result",
          "data": {
            "text/plain": [
              "16514"
            ]
          },
          "metadata": {
            "tags": []
          },
          "execution_count": 9
        }
      ]
    },
    {
      "cell_type": "code",
      "metadata": {
        "id": "Nnfqw9oSms3U",
        "colab_type": "code",
        "colab": {}
      },
      "source": [
        "# final_df['Final_disposition'].value_counts()\n",
        "# SLU    9183\n",
        "# S32    4887\n",
        "# PPD    2225\n",
        "# PTD     214\n",
        "# Name: Final_disposition, dtype: int64"
      ],
      "execution_count": null,
      "outputs": []
    },
    {
      "cell_type": "code",
      "metadata": {
        "id": "BKACgrIrOXiW",
        "colab_type": "code",
        "colab": {
          "base_uri": "https://localhost:8080/",
          "height": 265
        },
        "outputId": "e9c7418c-5691-41f9-bae5-b2d5597af48b"
      },
      "source": [
        "final_df['Final_disposition'].hist();"
      ],
      "execution_count": 11,
      "outputs": [
        {
          "output_type": "display_data",
          "data": {
            "image/png": "[encoded data removed]",
            "text/plain": [
              "<Figure size 432x288 with 1 Axes>"
            ]
          },
          "metadata": {
            "tags": [],
            "needs_background": "light"
          }
        }
      ]
    },
    {
      "cell_type": "markdown",
      "metadata": {
        "id": "gzQJC4R9Wz-I",
        "colab_type": "text"
      },
      "source": [
        "### Cleaning numeric values"
      ]
    },
    {
      "cell_type": "code",
      "metadata": {
        "id": "8xT1iw0GW0km",
        "colab_type": "code",
        "colab": {}
      },
      "source": [
        "# remove comma and replace Nan values with zero and cast as new datatype\n",
        "from clean_num import strip_char\n",
        "from not_num import not_num_replace\n",
        "from type_col import type_col"
      ],
      "execution_count": null,
      "outputs": []
    },
    {
      "cell_type": "code",
      "metadata": {
        "id": "iEZ_0WcHW-lu",
        "colab_type": "code",
        "colab": {
          "base_uri": "https://localhost:8080/",
          "height": 122
        },
        "outputId": "031b3df3-20a1-4bd5-9344-02b0aa4f8a9a"
      },
      "source": [
        "# Unable to parse string \"0148P\" at position 3737\n",
        "# Unable to parse string \"05-14\" at position 7804\n",
        "\n",
        "# get index of rows where column value is not a digit and replace with another value\n",
        "# Change Zip Code and AWW columns to float, strip ',' and replace Nan with 0 ,\n",
        "int_col= 'Zip Code'\n",
        "\n",
        "not_num_replace(final_df, int_col, 0)"
      ],
      "execution_count": null,
      "outputs": [
        {
          "output_type": "stream",
          "text": [
            "/usr/local/lib/python3.6/dist-packages/pandas/core/indexing.py:966: SettingWithCopyWarning: \n",
            "A value is trying to be set on a copy of a slice from a DataFrame.\n",
            "Try using .loc[row_indexer,col_indexer] = value instead\n",
            "\n",
            "See the caveats in the documentation: https://pandas.pydata.org/pandas-docs/stable/user_guide/indexing.html#returning-a-view-versus-a-copy\n",
            "  self.obj[item] = s\n"
          ],
          "name": "stderr"
        }
      ]
    },
    {
      "cell_type": "code",
      "metadata": {
        "id": "VwS46LjIzKDQ",
        "colab_type": "code",
        "colab": {}
      },
      "source": [
        "def type_col(df,col,typecast):\n",
        "  df[col]=df[col].str.replace(',', '').replace('-','').replace([None],0).astype(typecast)\n",
        "  return df"
      ],
      "execution_count": null,
      "outputs": []
    },
    {
      "cell_type": "code",
      "metadata": {
        "id": "dcAJZF8zXEzf",
        "colab_type": "code",
        "colab": {
          "base_uri": "https://localhost:8080/",
          "height": 122
        },
        "outputId": "e2422b16-f849-4f9d-dac7-d41198778e82"
      },
      "source": [
        "# Remove commas from values and cast as float type\n",
        "\n",
        "AWW= 'Average Weekly Wage'\n",
        "\n",
        "type_col(final_df,AWW, float)\n",
        "\n",
        "# NameError: name 'np' is not defined error when try to call function"
      ],
      "execution_count": null,
      "outputs": [
        {
          "output_type": "stream",
          "text": [
            "/usr/local/lib/python3.6/dist-packages/ipykernel_launcher.py:2: SettingWithCopyWarning: \n",
            "A value is trying to be set on a copy of a slice from a DataFrame.\n",
            "Try using .loc[row_indexer,col_indexer] = value instead\n",
            "\n",
            "See the caveats in the documentation: https://pandas.pydata.org/pandas-docs/stable/user_guide/indexing.html#returning-a-view-versus-a-copy\n",
            "  \n"
          ],
          "name": "stderr"
        }
      ]
    },
    {
      "cell_type": "code",
      "metadata": {
        "id": "MTk_UbUNaCVv",
        "colab_type": "code",
        "colab": {}
      },
      "source": [
        "# remove asterisk from oiics code columns, replace Nan with zero, and cast all as type integer\n",
        "oiics_codes_list= ['OIICS Part Of Body Code','OIICS Nature of Injury Code','OIICS Injury Source Code','OIICS Event Exposure Code',\n",
        "                   'OIICS Secondary Source Code']\n",
        "                   \n",
        "final_df[oiics_codes_list]=final_df[oiics_codes_list].apply(strip_char).replace(np.NaN,0).astype('int')"
      ],
      "execution_count": null,
      "outputs": []
    },
    {
      "cell_type": "markdown",
      "metadata": {
        "id": "bMpGlLKUa3CZ",
        "colab_type": "text"
      },
      "source": [
        "Coerce dates to datetime"
      ]
    },
    {
      "cell_type": "code",
      "metadata": {
        "id": "-HXQgYaia6t8",
        "colab_type": "code",
        "colab": {
          "base_uri": "https://localhost:8080/",
          "height": 122
        },
        "outputId": "96b8140c-63bd-4770-9cf5-d662d0b17483"
      },
      "source": [
        "# find all column names with word Date and Days and coerce to datetime\n",
        "date='Date'\n",
        "day='Days'\n",
        "\n",
        "dates=[name for name in final_df.columns if date in name]\n",
        "days = [name for name in final_df.columns if day in name]\n",
        "\n",
        "date_names = dates+days\n",
        "\n",
        "final_df[date_names]=final_df[date_names].apply(pd.to_datetime,errors='coerce')"
      ],
      "execution_count": null,
      "outputs": [
        {
          "output_type": "stream",
          "text": [
            "/usr/local/lib/python3.6/dist-packages/pandas/core/frame.py:2963: SettingWithCopyWarning: \n",
            "A value is trying to be set on a copy of a slice from a DataFrame.\n",
            "Try using .loc[row_indexer,col_indexer] = value instead\n",
            "\n",
            "See the caveats in the documentation: https://pandas.pydata.org/pandas-docs/stable/user_guide/indexing.html#returning-a-view-versus-a-copy\n",
            "  self[k1] = value[k2]\n"
          ],
          "name": "stderr"
        }
      ]
    },
    {
      "cell_type": "code",
      "metadata": {
        "id": "XMM83xl6a-iM",
        "colab_type": "code",
        "colab": {
          "base_uri": "https://localhost:8080/",
          "height": 228
        },
        "outputId": "83a83aad-ba6e-43e5-cc18-9e157cae95bd"
      },
      "source": [
        "# find difference in days from two datetime column values\n",
        "\n",
        "final_df['Days_Accid_Final']=final_df['Final_disposition_Date']-final_df['Accident Date']\n",
        "final_df['Days_Assemb_Final']=final_df['Final_disposition_Date']-final_df['Assembly Date']"
      ],
      "execution_count": null,
      "outputs": [
        {
          "output_type": "stream",
          "text": [
            "/usr/local/lib/python3.6/dist-packages/ipykernel_launcher.py:3: SettingWithCopyWarning: \n",
            "A value is trying to be set on a copy of a slice from a DataFrame.\n",
            "Try using .loc[row_indexer,col_indexer] = value instead\n",
            "\n",
            "See the caveats in the documentation: https://pandas.pydata.org/pandas-docs/stable/user_guide/indexing.html#returning-a-view-versus-a-copy\n",
            "  This is separate from the ipykernel package so we can avoid doing imports until\n",
            "/usr/local/lib/python3.6/dist-packages/ipykernel_launcher.py:4: SettingWithCopyWarning: \n",
            "A value is trying to be set on a copy of a slice from a DataFrame.\n",
            "Try using .loc[row_indexer,col_indexer] = value instead\n",
            "\n",
            "See the caveats in the documentation: https://pandas.pydata.org/pandas-docs/stable/user_guide/indexing.html#returning-a-view-versus-a-copy\n",
            "  after removing the cwd from sys.path.\n"
          ],
          "name": "stderr"
        }
      ]
    },
    {
      "cell_type": "code",
      "metadata": {
        "id": "kuHBHwcGcI3U",
        "colab_type": "code",
        "colab": {
          "base_uri": "https://localhost:8080/",
          "height": 228
        },
        "outputId": "6218da04-8a68-4474-aac0-eb9ac00db3d3"
      },
      "source": [
        "# Getting the integer portion of the timedelta to get # of days\n",
        "final_df['Days_Accid_Final']=final_df['Days_Accid_Final'].dt.days\n",
        "final_df['Days_Assemb_Final']=final_df['Days_Assemb_Final'].dt.days"
      ],
      "execution_count": null,
      "outputs": [
        {
          "output_type": "stream",
          "text": [
            "/usr/local/lib/python3.6/dist-packages/ipykernel_launcher.py:2: SettingWithCopyWarning: \n",
            "A value is trying to be set on a copy of a slice from a DataFrame.\n",
            "Try using .loc[row_indexer,col_indexer] = value instead\n",
            "\n",
            "See the caveats in the documentation: https://pandas.pydata.org/pandas-docs/stable/user_guide/indexing.html#returning-a-view-versus-a-copy\n",
            "  \n",
            "/usr/local/lib/python3.6/dist-packages/ipykernel_launcher.py:3: SettingWithCopyWarning: \n",
            "A value is trying to be set on a copy of a slice from a DataFrame.\n",
            "Try using .loc[row_indexer,col_indexer] = value instead\n",
            "\n",
            "See the caveats in the documentation: https://pandas.pydata.org/pandas-docs/stable/user_guide/indexing.html#returning-a-view-versus-a-copy\n",
            "  This is separate from the ipykernel package so we can avoid doing imports until\n"
          ],
          "name": "stderr"
        }
      ]
    },
    {
      "cell_type": "code",
      "metadata": {
        "id": "3hFGH2d1zzr-",
        "colab_type": "code",
        "colab": {}
      },
      "source": [
        "final_df.info()"
      ],
      "execution_count": null,
      "outputs": []
    },
    {
      "cell_type": "markdown",
      "metadata": {
        "id": "AFA5itGooWsj",
        "colab_type": "text"
      },
      "source": [
        "### Dropping unneeded columns and rows"
      ]
    },
    {
      "cell_type": "code",
      "metadata": {
        "id": "n5sHviTToaZr",
        "colab_type": "code",
        "colab": {}
      },
      "source": [
        "# unneeded columns 'Section 32 Date','PPD Scheduled Loss Date','PPD Non-Scheduled Loss Date','PTD Date' as they are now all \n",
        "# combined into Final Disposition Date column\n",
        "unneed_cols= ['Unnamed: 0', 'Claim Identifier', 'Section 32 Date','PPD Scheduled Loss Date','PPD Non-Scheduled Loss Date',\n",
        "              'PTD Date','Medical Fee Region']\n",
        "\n",
        "# Get column names with word Description and drop, value captured in the associated code columns\n",
        "description='Description'\n",
        "desc_cols = [name for name in final_df.columns if description in name]\n",
        "\n",
        "drop_cols = unneed_cols + desc_cols\n",
        "\n",
        "scoped_df= final_df.drop(columns=drop_cols,axis=1)"
      ],
      "execution_count": null,
      "outputs": []
    },
    {
      "cell_type": "code",
      "metadata": {
        "id": "LNrjmJw80xMe",
        "colab_type": "code",
        "colab": {}
      },
      "source": [
        "final_df.shape,scoped_df.shape\n",
        "((16514, 56), (16514, 41))"
      ],
      "execution_count": null,
      "outputs": []
    },
    {
      "cell_type": "code",
      "metadata": {
        "id": "aAoEqsBSbl9U",
        "colab_type": "code",
        "colab": {
          "base_uri": "https://localhost:8080/",
          "height": 367
        },
        "outputId": "b03aef1a-6ea6-4fc4-c1af-2bb24821d6da"
      },
      "source": [
        "scoped_df.describe()"
      ],
      "execution_count": null,
      "outputs": [
        {
          "output_type": "execute_result",
          "data": {
            "text/html": [
              "<div>\n",
              "<style scoped>\n",
              "    .dataframe tbody tr th:only-of-type {\n",
              "        vertical-align: middle;\n",
              "    }\n",
              "\n",
              "    .dataframe tbody tr th {\n",
              "        vertical-align: top;\n",
              "    }\n",
              "\n",
              "    .dataframe thead th {\n",
              "        text-align: right;\n",
              "    }\n",
              "</style>\n",
              "<table border=\"1\" class=\"dataframe\">\n",
              "  <thead>\n",
              "    <tr style=\"text-align: right;\">\n",
              "      <th></th>\n",
              "      <th>Average Weekly Wage</th>\n",
              "      <th>Age at Injury</th>\n",
              "      <th>WCIO Part Of Body Code</th>\n",
              "      <th>WCIO Nature of Injury Code</th>\n",
              "      <th>WCIO Cause of Injury Code</th>\n",
              "      <th>OIICS Part Of Body Code</th>\n",
              "      <th>OIICS Nature of Injury Code</th>\n",
              "      <th>OIICS Injury Source Code</th>\n",
              "      <th>OIICS Event Exposure Code</th>\n",
              "      <th>OIICS Secondary Source Code</th>\n",
              "      <th>Birth Year</th>\n",
              "      <th>Hearing Count</th>\n",
              "      <th>Closed Count</th>\n",
              "      <th>IME-4 Count</th>\n",
              "      <th>Days_Accid_Final</th>\n",
              "      <th>Days_Assemb_Final</th>\n",
              "    </tr>\n",
              "  </thead>\n",
              "  <tbody>\n",
              "    <tr>\n",
              "      <th>count</th>\n",
              "      <td>16514.000000</td>\n",
              "      <td>16514.000000</td>\n",
              "      <td>8172.000000</td>\n",
              "      <td>7866.000000</td>\n",
              "      <td>7874.000000</td>\n",
              "      <td>16514.000000</td>\n",
              "      <td>16514.000000</td>\n",
              "      <td>16514.000000</td>\n",
              "      <td>16514.000000</td>\n",
              "      <td>16514.000000</td>\n",
              "      <td>16514.000000</td>\n",
              "      <td>16514.000000</td>\n",
              "      <td>16514.000000</td>\n",
              "      <td>13849.000000</td>\n",
              "      <td>16472.000000</td>\n",
              "      <td>16514.000000</td>\n",
              "    </tr>\n",
              "    <tr>\n",
              "      <th>mean</th>\n",
              "      <td>1029.560812</td>\n",
              "      <td>41.195713</td>\n",
              "      <td>45.394763</td>\n",
              "      <td>43.395627</td>\n",
              "      <td>52.012827</td>\n",
              "      <td>18.676093</td>\n",
              "      <td>4.664648</td>\n",
              "      <td>42.032639</td>\n",
              "      <td>16.096585</td>\n",
              "      <td>43.573211</td>\n",
              "      <td>1172.823301</td>\n",
              "      <td>4.937205</td>\n",
              "      <td>4.662892</td>\n",
              "      <td>5.162467</td>\n",
              "      <td>1364.951251</td>\n",
              "      <td>1202.401356</td>\n",
              "    </tr>\n",
              "    <tr>\n",
              "      <th>std</th>\n",
              "      <td>1279.813668</td>\n",
              "      <td>16.730467</td>\n",
              "      <td>18.955766</td>\n",
              "      <td>20.621546</td>\n",
              "      <td>24.147709</td>\n",
              "      <td>16.681049</td>\n",
              "      <td>13.938508</td>\n",
              "      <td>32.175465</td>\n",
              "      <td>19.623815</td>\n",
              "      <td>35.118114</td>\n",
              "      <td>963.295256</td>\n",
              "      <td>4.614556</td>\n",
              "      <td>3.081233</td>\n",
              "      <td>5.286153</td>\n",
              "      <td>1095.737882</td>\n",
              "      <td>941.602392</td>\n",
              "    </tr>\n",
              "    <tr>\n",
              "      <th>min</th>\n",
              "      <td>0.000000</td>\n",
              "      <td>0.000000</td>\n",
              "      <td>10.000000</td>\n",
              "      <td>1.000000</td>\n",
              "      <td>1.000000</td>\n",
              "      <td>0.000000</td>\n",
              "      <td>0.000000</td>\n",
              "      <td>0.000000</td>\n",
              "      <td>0.000000</td>\n",
              "      <td>0.000000</td>\n",
              "      <td>0.000000</td>\n",
              "      <td>0.000000</td>\n",
              "      <td>1.000000</td>\n",
              "      <td>1.000000</td>\n",
              "      <td>38.000000</td>\n",
              "      <td>4.000000</td>\n",
              "    </tr>\n",
              "    <tr>\n",
              "      <th>25%</th>\n",
              "      <td>591.610000</td>\n",
              "      <td>34.000000</td>\n",
              "      <td>35.000000</td>\n",
              "      <td>28.000000</td>\n",
              "      <td>30.000000</td>\n",
              "      <td>0.000000</td>\n",
              "      <td>0.000000</td>\n",
              "      <td>0.000000</td>\n",
              "      <td>0.000000</td>\n",
              "      <td>0.000000</td>\n",
              "      <td>0.000000</td>\n",
              "      <td>2.000000</td>\n",
              "      <td>2.000000</td>\n",
              "      <td>2.000000</td>\n",
              "      <td>680.000000</td>\n",
              "      <td>588.000000</td>\n",
              "    </tr>\n",
              "    <tr>\n",
              "      <th>50%</th>\n",
              "      <td>872.370000</td>\n",
              "      <td>44.000000</td>\n",
              "      <td>42.000000</td>\n",
              "      <td>49.000000</td>\n",
              "      <td>56.000000</td>\n",
              "      <td>21.000000</td>\n",
              "      <td>1.000000</td>\n",
              "      <td>56.000000</td>\n",
              "      <td>13.000000</td>\n",
              "      <td>49.000000</td>\n",
              "      <td>1953.000000</td>\n",
              "      <td>4.000000</td>\n",
              "      <td>4.000000</td>\n",
              "      <td>3.000000</td>\n",
              "      <td>1026.000000</td>\n",
              "      <td>918.000000</td>\n",
              "    </tr>\n",
              "    <tr>\n",
              "      <th>75%</th>\n",
              "      <td>1346.150000</td>\n",
              "      <td>53.000000</td>\n",
              "      <td>53.000000</td>\n",
              "      <td>52.000000</td>\n",
              "      <td>68.000000</td>\n",
              "      <td>32.000000</td>\n",
              "      <td>2.000000</td>\n",
              "      <td>62.000000</td>\n",
              "      <td>22.000000</td>\n",
              "      <td>74.000000</td>\n",
              "      <td>1966.000000</td>\n",
              "      <td>7.000000</td>\n",
              "      <td>6.000000</td>\n",
              "      <td>7.000000</td>\n",
              "      <td>1648.000000</td>\n",
              "      <td>1483.750000</td>\n",
              "    </tr>\n",
              "    <tr>\n",
              "      <th>max</th>\n",
              "      <td>121298.000000</td>\n",
              "      <td>95.000000</td>\n",
              "      <td>99.000000</td>\n",
              "      <td>91.000000</td>\n",
              "      <td>99.000000</td>\n",
              "      <td>99.000000</td>\n",
              "      <td>99.000000</td>\n",
              "      <td>99.000000</td>\n",
              "      <td>99.000000</td>\n",
              "      <td>99.000000</td>\n",
              "      <td>1999.000000</td>\n",
              "      <td>50.000000</td>\n",
              "      <td>31.000000</td>\n",
              "      <td>96.000000</td>\n",
              "      <td>12261.000000</td>\n",
              "      <td>7146.000000</td>\n",
              "    </tr>\n",
              "  </tbody>\n",
              "</table>\n",
              "</div>"
            ],
            "text/plain": [
              "       Average Weekly Wage  Age at Injury  WCIO Part Of Body Code  \\\n",
              "count         16514.000000   16514.000000             8172.000000   \n",
              "mean           1029.560812      41.195713               45.394763   \n",
              "std            1279.813668      16.730467               18.955766   \n",
              "min               0.000000       0.000000               10.000000   \n",
              "25%             591.610000      34.000000               35.000000   \n",
              "50%             872.370000      44.000000               42.000000   \n",
              "75%            1346.150000      53.000000               53.000000   \n",
              "max          121298.000000      95.000000               99.000000   \n",
              "\n",
              "       WCIO Nature of Injury Code  WCIO Cause of Injury Code  \\\n",
              "count                 7866.000000                7874.000000   \n",
              "mean                    43.395627                  52.012827   \n",
              "std                     20.621546                  24.147709   \n",
              "min                      1.000000                   1.000000   \n",
              "25%                     28.000000                  30.000000   \n",
              "50%                     49.000000                  56.000000   \n",
              "75%                     52.000000                  68.000000   \n",
              "max                     91.000000                  99.000000   \n",
              "\n",
              "       OIICS Part Of Body Code  OIICS Nature of Injury Code  \\\n",
              "count             16514.000000                 16514.000000   \n",
              "mean                 18.676093                     4.664648   \n",
              "std                  16.681049                    13.938508   \n",
              "min                   0.000000                     0.000000   \n",
              "25%                   0.000000                     0.000000   \n",
              "50%                  21.000000                     1.000000   \n",
              "75%                  32.000000                     2.000000   \n",
              "max                  99.000000                    99.000000   \n",
              "\n",
              "       OIICS Injury Source Code  OIICS Event Exposure Code  \\\n",
              "count              16514.000000               16514.000000   \n",
              "mean                  42.032639                  16.096585   \n",
              "std                   32.175465                  19.623815   \n",
              "min                    0.000000                   0.000000   \n",
              "25%                    0.000000                   0.000000   \n",
              "50%                   56.000000                  13.000000   \n",
              "75%                   62.000000                  22.000000   \n",
              "max                   99.000000                  99.000000   \n",
              "\n",
              "       OIICS Secondary Source Code    Birth Year  Hearing Count  Closed Count  \\\n",
              "count                 16514.000000  16514.000000   16514.000000  16514.000000   \n",
              "mean                     43.573211   1172.823301       4.937205      4.662892   \n",
              "std                      35.118114    963.295256       4.614556      3.081233   \n",
              "min                       0.000000      0.000000       0.000000      1.000000   \n",
              "25%                       0.000000      0.000000       2.000000      2.000000   \n",
              "50%                      49.000000   1953.000000       4.000000      4.000000   \n",
              "75%                      74.000000   1966.000000       7.000000      6.000000   \n",
              "max                      99.000000   1999.000000      50.000000     31.000000   \n",
              "\n",
              "        IME-4 Count  Days_Accid_Final  Days_Assemb_Final  \n",
              "count  13849.000000      16472.000000       16514.000000  \n",
              "mean       5.162467       1364.951251        1202.401356  \n",
              "std        5.286153       1095.737882         941.602392  \n",
              "min        1.000000         38.000000           4.000000  \n",
              "25%        2.000000        680.000000         588.000000  \n",
              "50%        3.000000       1026.000000         918.000000  \n",
              "75%        7.000000       1648.000000        1483.750000  \n",
              "max       96.000000      12261.000000        7146.000000  "
            ]
          },
          "metadata": {
            "tags": []
          },
          "execution_count": 30
        }
      ]
    },
    {
      "cell_type": "code",
      "metadata": {
        "id": "KYR4iQXib7dE",
        "colab_type": "code",
        "colab": {}
      },
      "source": [
        "num_df = scoped_df.select_dtypes(include='number')"
      ],
      "execution_count": null,
      "outputs": []
    },
    {
      "cell_type": "code",
      "metadata": {
        "id": "r98Gg0V63gmk",
        "colab_type": "code",
        "colab": {}
      },
      "source": [
        "obj_df = scoped_df.select_dtypes(exclude='number')"
      ],
      "execution_count": null,
      "outputs": []
    },
    {
      "cell_type": "code",
      "metadata": {
        "id": "WfPSDxijndEL",
        "colab_type": "code",
        "colab": {
          "base_uri": "https://localhost:8080/",
          "height": 422
        },
        "outputId": "d3afaa7a-7fa2-4202-ec45-509cbee7c1a8"
      },
      "source": [
        "num_df.info()"
      ],
      "execution_count": null,
      "outputs": [
        {
          "output_type": "stream",
          "text": [
            "<class 'pandas.core.frame.DataFrame'>\n",
            "Int64Index: 16514 entries, 100000 to 116513\n",
            "Data columns (total 16 columns):\n",
            " #   Column                       Non-Null Count  Dtype  \n",
            "---  ------                       --------------  -----  \n",
            " 0   Average Weekly Wage          16514 non-null  float64\n",
            " 1   Age at Injury                16514 non-null  int64  \n",
            " 2   WCIO Part Of Body Code       8172 non-null   float64\n",
            " 3   WCIO Nature of Injury Code   7866 non-null   float64\n",
            " 4   WCIO Cause of Injury Code    7874 non-null   float64\n",
            " 5   OIICS Part Of Body Code      16514 non-null  int64  \n",
            " 6   OIICS Nature of Injury Code  16514 non-null  int64  \n",
            " 7   OIICS Injury Source Code     16514 non-null  int64  \n",
            " 8   OIICS Event Exposure Code    16514 non-null  int64  \n",
            " 9   OIICS Secondary Source Code  16514 non-null  int64  \n",
            " 10  Birth Year                   16514 non-null  int64  \n",
            " 11  Hearing Count                16514 non-null  int64  \n",
            " 12  Closed Count                 16514 non-null  int64  \n",
            " 13  IME-4 Count                  13849 non-null  float64\n",
            " 14  Days_Accid_Final             16472 non-null  float64\n",
            " 15  Days_Assemb_Final            16514 non-null  int64  \n",
            "dtypes: float64(6), int64(10)\n",
            "memory usage: 2.8 MB\n"
          ],
          "name": "stdout"
        }
      ]
    },
    {
      "cell_type": "code",
      "metadata": {
        "id": "0xbjZe_tY2NF",
        "colab_type": "code",
        "colab": {
          "base_uri": "https://localhost:8080/",
          "height": 34
        },
        "outputId": "9a2459fc-2115-4b07-d526-a580c5e97d5f"
      },
      "source": [
        "num_df['IME-4 Count'].isna().sum()"
      ],
      "execution_count": null,
      "outputs": [
        {
          "output_type": "execute_result",
          "data": {
            "text/plain": [
              "2665"
            ]
          },
          "metadata": {
            "tags": []
          },
          "execution_count": 63
        }
      ]
    },
    {
      "cell_type": "code",
      "metadata": {
        "id": "o8ITvFfR2wDF",
        "colab_type": "code",
        "colab": {
          "base_uri": "https://localhost:8080/",
          "height": 580
        },
        "outputId": "c58b3529-039d-41e8-e99c-c81a3e66b40d"
      },
      "source": [
        "obj_df.info()"
      ],
      "execution_count": null,
      "outputs": [
        {
          "output_type": "stream",
          "text": [
            "<class 'pandas.core.frame.DataFrame'>\n",
            "Int64Index: 16514 entries, 100000 to 116513\n",
            "Data columns (total 25 columns):\n",
            " #   Column                          Non-Null Count  Dtype         \n",
            "---  ------                          --------------  -----         \n",
            " 0   Claim Type                      16514 non-null  object        \n",
            " 1   District Name                   16514 non-null  object        \n",
            " 2   Current Claim Status            16514 non-null  object        \n",
            " 3   Claim Injury Type               16514 non-null  object        \n",
            " 4   Assembly Date                   16514 non-null  datetime64[ns]\n",
            " 5   Accident Date                   16472 non-null  datetime64[ns]\n",
            " 6   ANCR Date                       16514 non-null  datetime64[ns]\n",
            " 7   Controverted Date               2237 non-null   datetime64[ns]\n",
            " 8   First Appeal Date               2551 non-null   datetime64[ns]\n",
            " 9   Alternative Dispute Resolution  16514 non-null  object        \n",
            " 10  Gender                          16514 non-null  object        \n",
            " 11  Zip Code                        16514 non-null  object        \n",
            " 12  C-2 Date                        10440 non-null  datetime64[ns]\n",
            " 13  C-3 Date                        13411 non-null  datetime64[ns]\n",
            " 14  First Hearing Date              14866 non-null  datetime64[ns]\n",
            " 15  Highest Process                 16514 non-null  object        \n",
            " 16  Attorney/Representative         16514 non-null  object        \n",
            " 17  Carrier Name                    16514 non-null  object        \n",
            " 18  Carrier Type                    16514 non-null  object        \n",
            " 19  Interval Assembled to ANCR      16514 non-null  object        \n",
            " 20  Accident                        16514 non-null  object        \n",
            " 21  Occupational Disease            16514 non-null  object        \n",
            " 22  County of Injury                16514 non-null  object        \n",
            " 23  Final_disposition               16514 non-null  object        \n",
            " 24  Final_disposition_Date          16514 non-null  datetime64[ns]\n",
            "dtypes: datetime64[ns](9), object(16)\n",
            "memory usage: 3.9+ MB\n"
          ],
          "name": "stdout"
        }
      ]
    },
    {
      "cell_type": "code",
      "metadata": {
        "id": "i8efsHj2S-DO",
        "colab_type": "code",
        "colab": {}
      },
      "source": [
        "object_df = obj_df.select_dtypes(include='object')"
      ],
      "execution_count": null,
      "outputs": []
    },
    {
      "cell_type": "code",
      "metadata": {
        "id": "THWp4t23TeXU",
        "colab_type": "code",
        "colab": {}
      },
      "source": [
        "date_df = obj_df.select_dtypes(exclude='object')"
      ],
      "execution_count": null,
      "outputs": []
    },
    {
      "cell_type": "code",
      "metadata": {
        "id": "BeTxNAvlTZ-T",
        "colab_type": "code",
        "colab": {
          "base_uri": "https://localhost:8080/",
          "height": 34
        },
        "outputId": "b8ff78de-5bf0-4413-bc96-58a03041bb80"
      },
      "source": [
        "object_df.shape, date_df.shape"
      ],
      "execution_count": null,
      "outputs": [
        {
          "output_type": "execute_result",
          "data": {
            "text/plain": [
              "((16514, 16), (16514, 9))"
            ]
          },
          "metadata": {
            "tags": []
          },
          "execution_count": 49
        }
      ]
    },
    {
      "cell_type": "code",
      "metadata": {
        "id": "67S9Mr2OT3Ua",
        "colab_type": "code",
        "colab": {}
      },
      "source": [
        ""
      ],
      "execution_count": null,
      "outputs": []
    },
    {
      "cell_type": "markdown",
      "metadata": {
        "id": "EwaJWm9jEQ4Q",
        "colab_type": "text"
      },
      "source": [
        "### Imputing missing numerical data"
      ]
    },
    {
      "cell_type": "code",
      "metadata": {
        "id": "D8jzOscv3Vwa",
        "colab_type": "code",
        "colab": {}
      },
      "source": [
        "from sklearn_pandas import DataFrameMapper, FunctionTransformer\n",
        "from sklearn.impute import SimpleImputer, MissingIndicator\n",
        "from sklearn.preprocessing import LabelEncoder\n"
      ],
      "execution_count": null,
      "outputs": []
    },
    {
      "cell_type": "code",
      "metadata": {
        "id": "YZUHievkbhp3",
        "colab_type": "code",
        "colab": {}
      },
      "source": [
        "wcio='WCIO'\n",
        "\n",
        "wcio_cols=[name for name in num_df.columns if wcio in name]"
      ],
      "execution_count": null,
      "outputs": []
    },
    {
      "cell_type": "code",
      "metadata": {
        "id": "tDDIeDkhSxQQ",
        "colab_type": "code",
        "colab": {}
      },
      "source": [
        "mapper = DataFrameMapper(features=[\n",
        " (['Age at Injury'], SimpleImputer(missing_values=np.nan,strategy='mean')),\n",
        "  (['Age at Injury'], MissingIndicator(),{'alias':'Missing_Age'}),\n",
        "  ([col for col in wcio_cols], SimpleImputer(strategy='constant')),\n",
        "  (['Days_Accid_Final'], SimpleImputer(missing_values=np.nan,strategy='mean')),\n",
        "  (['IME-4 Count'], SimpleImputer(strategy='constant')),\n",
        "    \n",
        "], df_out=True)\n"
      ],
      "execution_count": null,
      "outputs": []
    },
    {
      "cell_type": "code",
      "metadata": {
        "id": "6XpfejTnad9J",
        "colab_type": "code",
        "colab": {}
      },
      "source": [
        "mapper.fit_transform"
      ],
      "execution_count": null,
      "outputs": []
    },
    {
      "cell_type": "code",
      "metadata": {
        "id": "e-90FjK3Kl8k",
        "colab_type": "code",
        "colab": {}
      },
      "source": [
        "# # shuffle rows in df\n",
        "# comb_shuffle_df =comb_ppd_disp_df.sample(frac=1).reset_index(drop=True)"
      ],
      "execution_count": null,
      "outputs": []
    }
  ]
}