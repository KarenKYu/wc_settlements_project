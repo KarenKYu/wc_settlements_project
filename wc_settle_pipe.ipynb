{
 "cells": [
  {
   "cell_type": "markdown",
   "metadata": {
    "colab_type": "text",
    "id": "CosljEhRTuQ0"
   },
   "source": [
    "### Predict if a NYS Worker's Compensation claim will close as one of 4 Final Settlement types:\n",
    "\n",
    "* Section 32\n",
    "* PPD Scheduled Loss \n",
    "* PPD Non-Scheduled Loss \n",
    "* PTD\n",
    "\n",
    "- [Link to WC Dataset](https://data.ny.gov/Government-Finance/Assembled-Workers-Compensation-Claims-Beginning-20/jshw-gkgu) Assembled Workers' Compensation Claims: Beginning 2000\n",
    "- [Link to WC Dataset Dictionary](https://data.ny.gov/api/views/6r4d-hp7p/files/15iRqbPHklkRLpJelhaiI96RUWN0flYW5WbADuGuVII?download=true&filename=NYSWCB_ClaimsAssembled_Data_Dictionary.pdf)\n"
   ]
  },
  {
   "cell_type": "code",
   "execution_count": 2,
   "metadata": {
    "colab": {
     "base_uri": "https://localhost:8080/",
     "height": 72
    },
    "colab_type": "code",
    "id": "I-vCyVNnV-_q",
    "outputId": "4c4675db-0b3d-4fcb-e957-40a9b363ed9f"
   },
   "outputs": [],
   "source": [
    "import pandas as pd\n",
    "import numpy as np\n",
    "import matplotlib.pyplot as plt\n",
    "%matplotlib inline\n",
    "import seaborn as sns\n",
    "pd.set_option('display.max_columns', None)\n",
    "pd.set_option('display.max_rows', None)"
   ]
  },
  {
   "cell_type": "code",
   "execution_count": 6,
   "metadata": {
    "scrolled": true
   },
   "outputs": [
    {
     "name": "stdout",
     "output_type": "stream",
     "text": [
      "Collecting pip\n",
      "  Downloading https://files.pythonhosted.org/packages/4e/5f/528232275f6509b1fff703c9280e58951a81abe24640905de621c9f81839/pip-20.2.3-py2.py3-none-any.whl (1.5MB)\n",
      "Collecting setuptools\n",
      "  Downloading https://files.pythonhosted.org/packages/44/a6/7fb6e8b3f4a6051e72e4e2218889351f0ee484b9ee17e995f5ccff780300/setuptools-50.3.0-py3-none-any.whl (785kB)\n",
      "Collecting wheel\n",
      "  Downloading https://files.pythonhosted.org/packages/a7/00/3df031b3ecd5444d572141321537080b40c1c25e1caa3d86cdd12e5e919c/wheel-0.35.1-py2.py3-none-any.whl\n",
      "Installing collected packages: pip, setuptools, wheel\n",
      "  Found existing installation: pip 18.1\n",
      "    Uninstalling pip-18.1:\n",
      "      Successfully uninstalled pip-18.1\n",
      "  Found existing installation: setuptools 40.6.2\n",
      "    Uninstalling setuptools-40.6.2:\n",
      "      Successfully uninstalled setuptools-40.6.2\n",
      "  Found existing installation: wheel 0.32.3\n",
      "    Uninstalling wheel-0.32.3:\n",
      "      Successfully uninstalled wheel-0.32.3\n",
      "Successfully installed pip-20.2.3 setuptools-50.3.0 wheel-0.35.1\n"
     ]
    },
    {
     "name": "stderr",
     "output_type": "stream",
     "text": [
      "pytest-astropy 0.8.0 requires pytest-cov>=2.0, which is not installed.\n",
      "pytest-astropy 0.8.0 requires pytest-filter-subpackage>=0.1, which is not installed.\n",
      "pytest-astropy 0.8.0 has requirement hypothesis>=5.1, but you'll have hypothesis 4.36.2 which is incompatible.\n",
      "pytest-astropy 0.8.0 has requirement pytest>=4.6, but you'll have pytest 4.0.1 which is incompatible.\n"
     ]
    }
   ],
   "source": [
    "# !python -m pip install --upgrade pip setuptools wheel"
   ]
  },
  {
   "cell_type": "code",
   "execution_count": 8,
   "metadata": {},
   "outputs": [
    {
     "name": "stdout",
     "output_type": "stream",
     "text": [
      "Collecting ez_setup\n",
      "  Downloading ez_setup-0.9.tar.gz (6.6 kB)\n",
      "Building wheels for collected packages: ez-setup\n",
      "  Building wheel for ez-setup (setup.py): started\n",
      "  Building wheel for ez-setup (setup.py): finished with status 'done'\n",
      "  Created wheel for ez-setup: filename=ez_setup-0.9-py3-none-any.whl size=11018 sha256=a1d8c80595aab2e818526d93e9c167724551f91d9f0d81521fc668867929084b\n",
      "  Stored in directory: c:\\users\\karen\\appdata\\local\\pip\\cache\\wheels\\b1\\68\\a0\\3224e9e4903eb884e775b63b1c72d82af5ac05a6288494adb8\n",
      "Successfully built ez-setup\n",
      "Installing collected packages: ez-setup\n",
      "Successfully installed ez-setup-0.9\n"
     ]
    }
   ],
   "source": [
    "# !pip install ez_setup"
   ]
  },
  {
   "cell_type": "code",
   "execution_count": 10,
   "metadata": {},
   "outputs": [
    {
     "name": "stdout",
     "output_type": "stream",
     "text": [
      "Searching for setuptools\n",
      "Reading https://pypi.org/simple/setuptools/\n",
      "Downloading https://files.pythonhosted.org/packages/44/a6/7fb6e8b3f4a6051e72e4e2218889351f0ee484b9ee17e995f5ccff780300/setuptools-50.3.0-py3-none-any.whl#sha256=c77b3920663a435c9450d9d971c48f5a7478fca8881b2cd2564e59f970f03536\n",
      "Best match: setuptools 50.3.0\n",
      "Processing setuptools-50.3.0-py3-none-any.whl\n",
      "Installing setuptools-50.3.0-py3-none-any.whl to c:\\users\\karen\\anaconda3\\lib\\site-packages\n",
      "Adding setuptools 50.3.0 to easy-install.pth file\n",
      "Installing easy_install-script.py script to c:\\users\\karen\\anaconda3\\Scripts\n",
      "Installing easy_install.exe script to c:\\users\\karen\\anaconda3\\Scripts\n"
     ]
    },
    {
     "name": "stderr",
     "output_type": "stream",
     "text": [
      "WARNING: The easy_install command is deprecated and will be removed in a future version.\n",
      "error: [WinError 5] Access is denied: 'c:\\\\users\\\\karen\\\\anaconda3\\\\Scripts\\\\easy_install.exe'\n"
     ]
    }
   ],
   "source": [
    "# !easy_install -U setuptools"
   ]
  },
  {
   "cell_type": "code",
   "execution_count": 11,
   "metadata": {
    "collapsed": true
   },
   "outputs": [
    {
     "name": "stdout",
     "output_type": "stream",
     "text": [
      "Collecting feather\n",
      "  Using cached feather-0.9.1dev.tar.gz (9.8 kB)\n"
     ]
    },
    {
     "name": "stderr",
     "output_type": "stream",
     "text": [
      "    ERROR: Command errored out with exit status 1:\n",
      "     command: 'c:\\users\\karen\\anaconda3\\python.exe' -c 'import sys, setuptools, tokenize; sys.argv[0] = '\"'\"'C:\\\\Users\\\\karen\\\\AppData\\\\Local\\\\Temp\\\\pip-install-tt5rl60f\\\\feather\\\\setup.py'\"'\"'; __file__='\"'\"'C:\\\\Users\\\\karen\\\\AppData\\\\Local\\\\Temp\\\\pip-install-tt5rl60f\\\\feather\\\\setup.py'\"'\"';f=getattr(tokenize, '\"'\"'open'\"'\"', open)(__file__);code=f.read().replace('\"'\"'\\r\\n'\"'\"', '\"'\"'\\n'\"'\"');f.close();exec(compile(code, __file__, '\"'\"'exec'\"'\"'))' egg_info --egg-base 'C:\\Users\\karen\\AppData\\Local\\Temp\\pip-pip-egg-info-yvvran_m'\n",
      "         cwd: C:\\Users\\karen\\AppData\\Local\\Temp\\pip-install-tt5rl60f\\feather\\\n",
      "    Complete output (31 lines):\n",
      "    Downloading http://pypi.python.org/packages/source/d/distribute/distribute-0.6.14.tar.gz\n",
      "    Traceback (most recent call last):\n",
      "      File \"C:\\Users\\karen\\AppData\\Local\\Temp\\pip-install-tt5rl60f\\feather\\distribute_setup.py\", line 143, in use_setuptools\n",
      "        raise ImportError\n",
      "    ImportError\n",
      "    \n",
      "    During handling of the above exception, another exception occurred:\n",
      "    \n",
      "    Traceback (most recent call last):\n",
      "      File \"<string>\", line 1, in <module>\n",
      "      File \"C:\\Users\\karen\\AppData\\Local\\Temp\\pip-install-tt5rl60f\\feather\\setup.py\", line 3, in <module>\n",
      "        distribute_setup.use_setuptools()\n",
      "      File \"C:\\Users\\karen\\AppData\\Local\\Temp\\pip-install-tt5rl60f\\feather\\distribute_setup.py\", line 145, in use_setuptools\n",
      "        return _do_download(version, download_base, to_dir, download_delay)\n",
      "      File \"C:\\Users\\karen\\AppData\\Local\\Temp\\pip-install-tt5rl60f\\feather\\distribute_setup.py\", line 124, in _do_download\n",
      "        to_dir, download_delay)\n",
      "      File \"C:\\Users\\karen\\AppData\\Local\\Temp\\pip-install-tt5rl60f\\feather\\distribute_setup.py\", line 193, in download_setuptools\n",
      "        src = urlopen(url)\n",
      "      File \"c:\\users\\karen\\anaconda3\\lib\\urllib\\request.py\", line 223, in urlopen\n",
      "        return opener.open(url, data, timeout)\n",
      "      File \"c:\\users\\karen\\anaconda3\\lib\\urllib\\request.py\", line 532, in open\n",
      "        response = meth(req, response)\n",
      "      File \"c:\\users\\karen\\anaconda3\\lib\\urllib\\request.py\", line 642, in http_response\n",
      "        'http', request, response, code, msg, hdrs)\n",
      "      File \"c:\\users\\karen\\anaconda3\\lib\\urllib\\request.py\", line 570, in error\n",
      "        return self._call_chain(*args)\n",
      "      File \"c:\\users\\karen\\anaconda3\\lib\\urllib\\request.py\", line 504, in _call_chain\n",
      "        result = func(*args)\n",
      "      File \"c:\\users\\karen\\anaconda3\\lib\\urllib\\request.py\", line 650, in http_error_default\n",
      "        raise HTTPError(req.full_url, code, msg, hdrs, fp)\n",
      "    urllib.error.HTTPError: HTTP Error 403: SSL is required\n",
      "    ----------------------------------------\n",
      "ERROR: Command errored out with exit status 1: python setup.py egg_info Check the logs for full command output.\n"
     ]
    }
   ],
   "source": [
    "# !pip install feather"
   ]
  },
  {
   "cell_type": "code",
   "execution_count": 25,
   "metadata": {
    "colab": {
     "base_uri": "https://localhost:8080/",
     "height": 34
    },
    "colab_type": "code",
    "id": "RNNQ6DF7WXPB",
    "outputId": "352b5eba-57c3-48af-9a62-35d95f85a191"
   },
   "outputs": [
    {
     "name": "stderr",
     "output_type": "stream",
     "text": [
      "C:\\Users\\karen\\Anaconda3\\lib\\site-packages\\IPython\\core\\interactiveshell.py:3020: DtypeWarning: Columns (35) have mixed types. Specify dtype option on import or set low_memory=False.\n",
      "  interactivity=interactivity, compiler=compiler, result=result)\n"
     ]
    },
    {
     "data": {
      "text/plain": [
       "(100000, 51)"
      ]
     },
     "execution_count": 25,
     "metadata": {},
     "output_type": "execute_result"
    }
   ],
   "source": [
    "# only read in first 100000 rows == 2% of total dataset rows from WC Dataset\n",
    "df=pd.read_csv(r\"C:\\Users\\karen\\Downloads\\Assembled_Workers__Compensation_Claims___Beginning_2000.csv\", nrows=100000, index_col=None)\n",
    "df.shape"
   ]
  },
  {
   "cell_type": "code",
   "execution_count": 28,
   "metadata": {},
   "outputs": [],
   "source": [
    "df.to_csv('part_wc.csv')"
   ]
  },
  {
   "cell_type": "code",
   "execution_count": 29,
   "metadata": {
    "colab": {
     "base_uri": "https://localhost:8080/",
     "height": 1000
    },
    "colab_type": "code",
    "id": "1PPhMp0tWzj_",
    "outputId": "076b141a-a89a-41e8-ec87-ba512ba768cc",
    "scrolled": true
   },
   "outputs": [
    {
     "name": "stdout",
     "output_type": "stream",
     "text": [
      "<class 'pandas.core.frame.DataFrame'>\n",
      "RangeIndex: 100000 entries, 0 to 99999\n",
      "Data columns (total 51 columns):\n",
      "Claim Identifier                      100000 non-null int64\n",
      "Claim Type                            100000 non-null object\n",
      "District Name                         100000 non-null object\n",
      "Average Weekly Wage                   100000 non-null object\n",
      "Current Claim Status                  100000 non-null object\n",
      "Claim Injury Type                     100000 non-null object\n",
      "Age at Injury                         100000 non-null int64\n",
      "Assembly Date                         100000 non-null object\n",
      "Accident Date                         98848 non-null object\n",
      "ANCR Date                             43025 non-null object\n",
      "Controverted Date                     8107 non-null object\n",
      "Section 32 Date                       4892 non-null object\n",
      "PPD Scheduled Loss Date               9183 non-null object\n",
      "PPD Non-Scheduled Loss Date           2225 non-null object\n",
      "PTD Date                              214 non-null object\n",
      "First Appeal Date                     4155 non-null object\n",
      "WCIO Part Of Body Code                51808 non-null float64\n",
      "WCIO Part Of Body Description         51808 non-null object\n",
      "WCIO Nature of Injury Code            51316 non-null float64\n",
      "WCIO Nature of Injury Description     51316 non-null object\n",
      "WCIO Cause of Injury Code             51395 non-null float64\n",
      "WCIO Cause of Injury Description      51395 non-null object\n",
      "OIICS Part Of Body Code               22941 non-null object\n",
      "OIICS Part Of Body Description        22941 non-null object\n",
      "OIICS Nature of Injury Code           22941 non-null object\n",
      "OIICS Nature of Injury Description    22941 non-null object\n",
      "OIICS Injury Source Code              22939 non-null object\n",
      "OIICS Injury Source Description       22939 non-null object\n",
      "OIICS Event Exposure Code             22940 non-null object\n",
      "OIICS Event Exposure Description      22940 non-null object\n",
      "OIICS Secondary Source Code           22936 non-null object\n",
      "OIICS Secondary Source Description    22936 non-null object\n",
      "Alternative Dispute Resolution        100000 non-null object\n",
      "Gender                                100000 non-null object\n",
      "Birth Year                            100000 non-null int64\n",
      "Zip Code                              100000 non-null object\n",
      "Medical Fee Region                    100000 non-null object\n",
      "C-2 Date                              36959 non-null object\n",
      "C-3 Date                              37899 non-null object\n",
      "First Hearing Date                    32164 non-null object\n",
      "Highest Process                       100000 non-null object\n",
      "Hearing Count                         100000 non-null int64\n",
      "Closed Count                          100000 non-null int64\n",
      "Attorney/Representative               100000 non-null object\n",
      "Carrier Name                          100000 non-null object\n",
      "Carrier Type                          100000 non-null object\n",
      "IME-4 Count                           24872 non-null float64\n",
      "Interval Assembled to ANCR            43025 non-null object\n",
      "Accident                              100000 non-null object\n",
      "Occupational Disease                  100000 non-null object\n",
      "County of Injury                      100000 non-null object\n",
      "dtypes: float64(4), int64(5), object(42)\n",
      "memory usage: 38.9+ MB\n"
     ]
    }
   ],
   "source": [
    "df.info()"
   ]
  },
  {
   "cell_type": "code",
   "execution_count": 30,
   "metadata": {
    "colab": {
     "base_uri": "https://localhost:8080/",
     "height": 34
    },
    "colab_type": "code",
    "id": "qV8yPwO2ERO-",
    "outputId": "e4a9c123-875c-4e84-e9d3-1fb7a70b32c1"
   },
   "outputs": [
    {
     "data": {
      "text/plain": [
       "(100000, 51)"
      ]
     },
     "execution_count": 30,
     "metadata": {},
     "output_type": "execute_result"
    }
   ],
   "source": [
    "df.shape\n",
    "# (100000, 52)"
   ]
  },
  {
   "cell_type": "code",
   "execution_count": 32,
   "metadata": {
    "colab": {
     "base_uri": "https://localhost:8080/",
     "height": 105
    },
    "colab_type": "code",
    "id": "fBZCwTPWEVBL",
    "outputId": "26cca89a-447a-48a1-fefa-2241d00834ee"
   },
   "outputs": [
    {
     "data": {
      "text/plain": [
       "Section 32 Date                4.892\n",
       "PPD Scheduled Loss Date        9.183\n",
       "PPD Non-Scheduled Loss Date    2.225\n",
       "PTD Date                       0.214\n",
       "dtype: float64"
      ]
     },
     "execution_count": 32,
     "metadata": {},
     "output_type": "execute_result"
    }
   ],
   "source": [
    "#show the # of each type of settlement in dataset/ % of claims in sample dataset settled under each type\n",
    "disp_cols=['Section 32 Date','PPD Scheduled Loss Date','PPD Non-Scheduled Loss Date','PTD Date']\n",
    "\n",
    "(df[disp_cols].notnull().sum()/100000)*100\n",
    "# Section 32 Date                4892\n",
    "# PPD Scheduled Loss Date        9183\n",
    "# PPD Non-Scheduled Loss Date    2225\n",
    "# PTD Date                        214\n",
    "# dtype: int64\n",
    "# Total:                        16514\n",
    "\n",
    "# Section 32 Date                4.892\n",
    "# PPD Scheduled Loss Date        9.183\n",
    "# PPD Non-Scheduled Loss Date    2.225\n",
    "# PTD Date                       0.214\n",
    "# dtype: float64"
   ]
  },
  {
   "cell_type": "markdown",
   "metadata": {
    "colab_type": "text",
    "id": "Dr-leiF3H3D-"
   },
   "source": [
    "### Create target by combining the 4 types of final WC claim dispositions into one column"
   ]
  },
  {
   "cell_type": "code",
   "execution_count": 34,
   "metadata": {
    "colab": {},
    "colab_type": "code",
    "id": "rPqbmfcJ_F0J"
   },
   "outputs": [
    {
     "ename": "AttributeError",
     "evalue": "'Index' object has no attribute 'to_list'",
     "output_type": "error",
     "traceback": [
      "\u001b[1;31m---------------------------------------------------------------------------\u001b[0m",
      "\u001b[1;31mAttributeError\u001b[0m                            Traceback (most recent call last)",
      "\u001b[1;32m<ipython-input-34-91a07aab86cf>\u001b[0m in \u001b[0;36m<module>\u001b[1;34m\u001b[0m\n\u001b[0;32m      8\u001b[0m \u001b[0mnew_cols\u001b[0m\u001b[1;33m=\u001b[0m\u001b[1;33m[\u001b[0m\u001b[1;34m'Final_disposition'\u001b[0m\u001b[1;33m,\u001b[0m \u001b[1;34m'Final_disposition_Date'\u001b[0m\u001b[1;33m,\u001b[0m \u001b[1;34m'Days_Accid_Final'\u001b[0m\u001b[1;33m,\u001b[0m \u001b[1;34m'Days_Assemb_Final'\u001b[0m\u001b[1;33m]\u001b[0m\u001b[1;33m\u001b[0m\u001b[1;33m\u001b[0m\u001b[0m\n\u001b[0;32m      9\u001b[0m \u001b[1;33m\u001b[0m\u001b[0m\n\u001b[1;32m---> 10\u001b[1;33m \u001b[0mdisp_df\u001b[0m \u001b[1;33m=\u001b[0m \u001b[0madd_cols_df\u001b[0m\u001b[1;33m(\u001b[0m\u001b[0mdf\u001b[0m\u001b[1;33m,\u001b[0m \u001b[0mnew_cols\u001b[0m\u001b[1;33m)\u001b[0m\u001b[1;33m\u001b[0m\u001b[1;33m\u001b[0m\u001b[0m\n\u001b[0m\u001b[0;32m     11\u001b[0m \u001b[1;33m\u001b[0m\u001b[0m\n\u001b[0;32m     12\u001b[0m \u001b[1;31m# disp_df.shape\u001b[0m\u001b[1;33m\u001b[0m\u001b[1;33m\u001b[0m\u001b[1;33m\u001b[0m\u001b[0m\n",
      "\u001b[1;32m~\\wc_settlements\\wc_settlement_all.py\u001b[0m in \u001b[0;36madd_cols_df\u001b[1;34m(df, new_cols)\u001b[0m\n\u001b[0;32m     29\u001b[0m \u001b[1;33m\u001b[0m\u001b[0m\n\u001b[0;32m     30\u001b[0m \u001b[1;32mdef\u001b[0m \u001b[0madd_cols_df\u001b[0m\u001b[1;33m(\u001b[0m\u001b[0mdf\u001b[0m\u001b[1;33m,\u001b[0m \u001b[0mnew_cols\u001b[0m\u001b[1;33m)\u001b[0m\u001b[1;33m:\u001b[0m\u001b[1;33m\u001b[0m\u001b[1;33m\u001b[0m\u001b[0m\n\u001b[1;32m---> 31\u001b[1;33m   \u001b[0morig_cols\u001b[0m\u001b[1;33m=\u001b[0m\u001b[0mdf\u001b[0m\u001b[1;33m.\u001b[0m\u001b[0mcolumns\u001b[0m\u001b[1;33m.\u001b[0m\u001b[0mto_list\u001b[0m\u001b[1;33m(\u001b[0m\u001b[1;33m)\u001b[0m\u001b[1;33m\u001b[0m\u001b[1;33m\u001b[0m\u001b[0m\n\u001b[0m\u001b[0;32m     32\u001b[0m   \u001b[0mcols\u001b[0m\u001b[1;33m=\u001b[0m\u001b[0morig_cols\u001b[0m\u001b[1;33m+\u001b[0m\u001b[0mnew_cols\u001b[0m\u001b[1;33m\u001b[0m\u001b[1;33m\u001b[0m\u001b[0m\n\u001b[0;32m     33\u001b[0m   \u001b[0mdisp_df\u001b[0m \u001b[1;33m=\u001b[0m \u001b[0mdf\u001b[0m\u001b[1;33m.\u001b[0m\u001b[0mreindex\u001b[0m\u001b[1;33m(\u001b[0m\u001b[0mcolumns\u001b[0m\u001b[1;33m=\u001b[0m\u001b[0mcols\u001b[0m\u001b[1;33m)\u001b[0m\u001b[1;33m\u001b[0m\u001b[1;33m\u001b[0m\u001b[0m\n",
      "\u001b[1;31mAttributeError\u001b[0m: 'Index' object has no attribute 'to_list'"
     ]
    }
   ],
   "source": [
    "# Create a Final disposition column to use as target- combines all final disposition classes into one column\n",
    "# Create a Final disposition date column - combines all final disposition dates into one column\n",
    "# Create a Days_Accid_Final column = days claim opened from date of accident to final disposition date\n",
    "# Create a Days_Assemb_Final column = days claim opened from date of assembly to final disposition date\n",
    "from wc_settlement_all import add_cols_df, combine_disposition_cols\n",
    "\n",
    "# created new dataframe with 4 new columns\n",
    "new_cols=['Final_disposition', 'Final_disposition_Date', 'Days_Accid_Final', 'Days_Assemb_Final']\n",
    "\n",
    "disp_df = add_cols_df(df, new_cols)\n",
    "\n",
    "# disp_df.shape\n",
    "# (99975, 56)"
   ]
  },
  {
   "cell_type": "code",
   "execution_count": 6,
   "metadata": {
    "colab": {
     "base_uri": "https://localhost:8080/",
     "height": 228
    },
    "colab_type": "code",
    "id": "rHlBdyN6Jm03",
    "outputId": "06a59654-bb7b-4347-8e6f-e32af8599ddb"
   },
   "outputs": [
    {
     "name": "stderr",
     "output_type": "stream",
     "text": [
      "/content/create_cols.py:28: SettingWithCopyWarning: \n",
      "A value is trying to be set on a copy of a slice from a DataFrame.\n",
      "Try using .loc[row_indexer,col_indexer] = value instead\n",
      "\n",
      "See the caveats in the documentation: https://pandas.pydata.org/pandas-docs/stable/user_guide/indexing.html#returning-a-view-versus-a-copy\n",
      "  select_df[combdate_col]=select_df[date_col]\n",
      "/content/create_cols.py:29: SettingWithCopyWarning: \n",
      "A value is trying to be set on a copy of a slice from a DataFrame.\n",
      "Try using .loc[row_indexer,col_indexer] = value instead\n",
      "\n",
      "See the caveats in the documentation: https://pandas.pydata.org/pandas-docs/stable/user_guide/indexing.html#returning-a-view-versus-a-copy\n",
      "  select_df[disp_word_col]=disp_word\n"
     ]
    }
   ],
   "source": [
    "# gets all rows with a certain type of final disposition that is not null and adds the disposition date to new col and type of disposition \n",
    "# string to Final Disposition\n",
    "ppd_df = combine_disposition_cols(disp_df, 'PPD Non-Scheduled Loss Date', 'Final_disposition_Date', 'Final_disposition','PPD')\n",
    "slu_df = combine_disposition_cols(disp_df, 'PPD Scheduled Loss Date', 'Final_disposition_Date', 'Final_disposition','SLU')\n",
    "s32_df = combine_disposition_cols(disp_df, 'Section 32 Date', 'Final_disposition_Date', 'Final_disposition','S32')\n",
    "ptd_df = combine_disposition_cols(disp_df, 'PTD Date', 'Final_disposition_Date', 'Final_disposition','PTD')"
   ]
  },
  {
   "cell_type": "code",
   "execution_count": 7,
   "metadata": {
    "colab": {
     "base_uri": "https://localhost:8080/",
     "height": 34
    },
    "colab_type": "code",
    "id": "Pd45NejpJ8LL",
    "outputId": "ac3fc969-5209-46be-dc27-50a2e584c8b4"
   },
   "outputs": [
    {
     "name": "stdout",
     "output_type": "stream",
     "text": [
      "(2225, 56) (9183, 56) (4892, 56) (214, 56)\n"
     ]
    }
   ],
   "source": [
    "print(ppd_df.shape,slu_df.shape,s32_df.shape,ptd_df.shape)\n",
    "# (2225, 54) (9183, 54) (4892, 54) (214, 54)"
   ]
  },
  {
   "cell_type": "code",
   "execution_count": 8,
   "metadata": {
    "colab": {},
    "colab_type": "code",
    "id": "x6wlm6OmKUEc"
   },
   "outputs": [],
   "source": [
    "# combine original df with ppd_df,slu_df,s32_df and ptd_df\n",
    "comb_disp_df = pd.concat([disp_df,s32_df,slu_df,ppd_df,ptd_df],ignore_index=True,axis=0)"
   ]
  },
  {
   "cell_type": "code",
   "execution_count": 9,
   "metadata": {
    "colab": {
     "base_uri": "https://localhost:8080/",
     "height": 34
    },
    "colab_type": "code",
    "id": "AN_TTFflKzFO",
    "outputId": "4ed12116-a7d3-4a46-83ec-09d324624d7b"
   },
   "outputs": [
    {
     "data": {
      "text/plain": [
       "(100983, 56)"
      ]
     },
     "execution_count": 9,
     "metadata": {
      "tags": []
     },
     "output_type": "execute_result"
    }
   ],
   "source": [
    "#drop original disposition rows from combined disp df by index\n",
    "from getidx import get_df_idx\n",
    "dfs=[s32_df,slu_df,ppd_df,ptd_df]\n",
    "\n",
    "# get indexes of disp dfs \n",
    "idx_droplist= get_df_idx(dfs)\n",
    "idx_droplist\n",
    "\n",
    "comb_disp_df.drop(labels=idx_droplist, axis=0, inplace= True)\n",
    "comb_disp_df.shape\n",
    "# (100983, 56)"
   ]
  },
  {
   "cell_type": "markdown",
   "metadata": {
    "colab_type": "text",
    "id": "3P-s0I72H2j3"
   },
   "source": [
    "### Select only rows with final dispositions"
   ]
  },
  {
   "cell_type": "code",
   "execution_count": 10,
   "metadata": {
    "colab": {},
    "colab_type": "code",
    "id": "dELQWcC-NlSZ"
   },
   "outputs": [],
   "source": [
    "final_df= comb_disp_df[comb_disp_df['Final_disposition'].notnull()]\n",
    "# final_df.shape\n",
    "# (16509, 56)"
   ]
  },
  {
   "cell_type": "code",
   "execution_count": 11,
   "metadata": {
    "colab": {},
    "colab_type": "code",
    "id": "Nnfqw9oSms3U"
   },
   "outputs": [],
   "source": [
    "# final_df['Final_disposition'].value_counts()\n",
    "# SLU    9183\n",
    "# S32    4887\n",
    "# PPD    2225\n",
    "# PTD     214\n",
    "# Name: Final_disposition, dtype: int64"
   ]
  },
  {
   "cell_type": "code",
   "execution_count": 12,
   "metadata": {
    "colab": {
     "base_uri": "https://localhost:8080/",
     "height": 265
    },
    "colab_type": "code",
    "id": "BKACgrIrOXiW",
    "outputId": "b3d4d892-3e75-4725-ec71-5e88a1acd0eb"
   },
   "outputs": [
    {
     "data": {
      "image/png": "[encoded data removed]",
      "text/plain": [
       "<Figure size 432x288 with 1 Axes>"
      ]
     },
     "metadata": {
      "needs_background": "light",
      "tags": []
     },
     "output_type": "display_data"
    }
   ],
   "source": [
    "final_df['Final_disposition'].hist();"
   ]
  },
  {
   "cell_type": "markdown",
   "metadata": {
    "colab_type": "text",
    "id": "gzQJC4R9Wz-I"
   },
   "source": [
    "### Cleaning numeric values"
   ]
  },
  {
   "cell_type": "code",
   "execution_count": 26,
   "metadata": {
    "colab": {
     "base_uri": "https://localhost:8080/",
     "height": 1000
    },
    "colab_type": "code",
    "id": "kHYipUEodF0y",
    "outputId": "352e5bd9-a05f-4947-e6e0-c2da6d9b6bcd"
   },
   "outputs": [
    {
     "name": "stdout",
     "output_type": "stream",
     "text": [
      "<class 'pandas.core.frame.DataFrame'>\n",
      "Int64Index: 16514 entries, 100000 to 116513\n",
      "Data columns (total 56 columns):\n",
      " #   Column                              Non-Null Count  Dtype  \n",
      "---  ------                              --------------  -----  \n",
      " 0   Unnamed: 0                          16514 non-null  int64  \n",
      " 1   Claim Identifier                    16514 non-null  int64  \n",
      " 2   Claim Type                          16514 non-null  object \n",
      " 3   District Name                       16514 non-null  object \n",
      " 4   Average Weekly Wage                 16514 non-null  object \n",
      " 5   Current Claim Status                16514 non-null  object \n",
      " 6   Claim Injury Type                   16514 non-null  object \n",
      " 7   Age at Injury                       16514 non-null  int64  \n",
      " 8   Assembly Date                       16514 non-null  object \n",
      " 9   Accident Date                       16472 non-null  object \n",
      " 10  ANCR Date                           16514 non-null  object \n",
      " 11  Controverted Date                   2237 non-null   object \n",
      " 12  Section 32 Date                     5853 non-null   object \n",
      " 13  PPD Scheduled Loss Date             9445 non-null   object \n",
      " 14  PPD Non-Scheduled Loss Date         2905 non-null   object \n",
      " 15  PTD Date                            281 non-null    object \n",
      " 16  First Appeal Date                   2551 non-null   object \n",
      " 17  WCIO Part Of Body Code              8172 non-null   float64\n",
      " 18  WCIO Part Of Body Description       8172 non-null   object \n",
      " 19  WCIO Nature of Injury Code          7866 non-null   float64\n",
      " 20  WCIO Nature of Injury Description   7866 non-null   object \n",
      " 21  WCIO Cause of Injury Code           7874 non-null   float64\n",
      " 22  WCIO Cause of Injury Description    7874 non-null   object \n",
      " 23  OIICS Part Of Body Code             12063 non-null  object \n",
      " 24  OIICS Part Of Body Description      12063 non-null  object \n",
      " 25  OIICS Nature of Injury Code         12063 non-null  object \n",
      " 26  OIICS Nature of Injury Description  12063 non-null  object \n",
      " 27  OIICS Injury Source Code            12063 non-null  object \n",
      " 28  OIICS Injury Source Description     12063 non-null  object \n",
      " 29  OIICS Event Exposure Code           12063 non-null  object \n",
      " 30  OIICS Event Exposure Description    12063 non-null  object \n",
      " 31  OIICS Secondary Source Code         12061 non-null  object \n",
      " 32  OIICS Secondary Source Description  12061 non-null  object \n",
      " 33  Alternative Dispute Resolution      16514 non-null  object \n",
      " 34  Gender                              16514 non-null  object \n",
      " 35  Birth Year                          16514 non-null  int64  \n",
      " 36  Zip Code                            16508 non-null  float64\n",
      " 37  Medical Fee Region                  16514 non-null  object \n",
      " 38  C-2 Date                            10440 non-null  object \n",
      " 39  C-3 Date                            13411 non-null  object \n",
      " 40  First Hearing Date                  14866 non-null  object \n",
      " 41  Highest Process                     16514 non-null  object \n",
      " 42  Hearing Count                       16514 non-null  int64  \n",
      " 43  Closed Count                        16514 non-null  int64  \n",
      " 44  Attorney/Representative             16514 non-null  object \n",
      " 45  Carrier Name                        16514 non-null  object \n",
      " 46  Carrier Type                        16514 non-null  object \n",
      " 47  IME-4 Count                         13849 non-null  float64\n",
      " 48  Interval Assembled to ANCR          16514 non-null  object \n",
      " 49  Accident                            16514 non-null  object \n",
      " 50  Occupational Disease                16514 non-null  object \n",
      " 51  County of Injury                    16514 non-null  object \n",
      " 52  Final_disposition                   16514 non-null  object \n",
      " 53  Final_disposition_Date              16514 non-null  object \n",
      " 54  Days_Accid_Final                    0 non-null      float64\n",
      " 55  Days_Assemb_Final                   0 non-null      float64\n",
      "dtypes: float64(7), int64(6), object(43)\n",
      "memory usage: 7.2+ MB\n"
     ]
    }
   ],
   "source": [
    "final_df.info()"
   ]
  },
  {
   "cell_type": "code",
   "execution_count": 34,
   "metadata": {
    "colab": {},
    "colab_type": "code",
    "id": "8xT1iw0GW0km"
   },
   "outputs": [],
   "source": [
    "# remove comma and replace Nan values with zero and cast as new datatype\n",
    "from clean_num import strip_char\n",
    "from not_num import not_num_replace"
   ]
  },
  {
   "cell_type": "code",
   "execution_count": null,
   "metadata": {
    "colab": {},
    "colab_type": "code",
    "id": "iEZ_0WcHW-lu"
   },
   "outputs": [],
   "source": [
    "# Unable to parse string \"0148P\" at position 3737\n",
    "# Unable to parse string \"05-14\" at position 7804\n",
    "\n",
    "# get index of rows where column value is not a digit and replace with another value\n",
    "# Change Zip Code and AWW columns to float, strip ',' and replace Nan with 0 ,\n",
    "int_col= 'Zip Code'\n",
    "\n",
    "not_num_replace(final_df, int_col, 0)"
   ]
  },
  {
   "cell_type": "code",
   "execution_count": 31,
   "metadata": {
    "colab": {
     "base_uri": "https://localhost:8080/",
     "height": 34
    },
    "colab_type": "code",
    "id": "FXQEIFp1bs-O",
    "outputId": "733ba155-1fd8-472c-c7b3-254f0b6ef2c7"
   },
   "outputs": [
    {
     "data": {
      "text/plain": [
       "dtype('float64')"
      ]
     },
     "execution_count": 31,
     "metadata": {
      "tags": []
     },
     "output_type": "execute_result"
    }
   ],
   "source": [
    "final_df['Zip Code'].dtype"
   ]
  },
  {
   "cell_type": "code",
   "execution_count": 19,
   "metadata": {
    "colab": {
     "base_uri": "https://localhost:8080/",
     "height": 122
    },
    "colab_type": "code",
    "id": "dnSQAB0AbJvD",
    "outputId": "f4521f47-ba5b-4179-80ad-bdd418f30c0b"
   },
   "outputs": [
    {
     "name": "stderr",
     "output_type": "stream",
     "text": [
      "/usr/local/lib/python3.6/dist-packages/ipykernel_launcher.py:1: SettingWithCopyWarning: \n",
      "A value is trying to be set on a copy of a slice from a DataFrame.\n",
      "Try using .loc[row_indexer,col_indexer] = value instead\n",
      "\n",
      "See the caveats in the documentation: https://pandas.pydata.org/pandas-docs/stable/user_guide/indexing.html#returning-a-view-versus-a-copy\n",
      "  \"\"\"Entry point for launching an IPython kernel.\n"
     ]
    }
   ],
   "source": [
    "# final_df['Zip Code']= pd.to_numeric(final_df['Zip Code'], errors='coerce',downcast='signed')\n",
    "# # final_df['Zip Code'].isna().sum()\n",
    "# # 6"
   ]
  },
  {
   "cell_type": "code",
   "execution_count": 38,
   "metadata": {
    "colab": {
     "base_uri": "https://localhost:8080/",
     "height": 122
    },
    "colab_type": "code",
    "id": "dcAJZF8zXEzf",
    "outputId": "fdb5ca45-cf7f-479a-b52c-a64475db63b1"
   },
   "outputs": [
    {
     "name": "stderr",
     "output_type": "stream",
     "text": [
      "/content/type_col.py:3: SettingWithCopyWarning: \n",
      "A value is trying to be set on a copy of a slice from a DataFrame.\n",
      "Try using .loc[row_indexer,col_indexer] = value instead\n",
      "\n",
      "See the caveats in the documentation: https://pandas.pydata.org/pandas-docs/stable/user_guide/indexing.html#returning-a-view-versus-a-copy\n",
      "  df[col]=df[col].str.replace(',', '').replace('-','').replace([None],0).astype(typecast)\n"
     ]
    }
   ],
   "source": [
    "# Remove commas from values and cast as float type\n",
    "from type_col import *\n",
    "AWW= 'Average Weekly Wage'\n",
    "\n",
    "type_col(final_df,AWW, float)"
   ]
  },
  {
   "cell_type": "code",
   "execution_count": 39,
   "metadata": {
    "colab": {
     "base_uri": "https://localhost:8080/",
     "height": 122
    },
    "colab_type": "code",
    "id": "MTk_UbUNaCVv",
    "outputId": "c4be7223-51e4-4b98-b27d-6d87fc6c84e1"
   },
   "outputs": [
    {
     "name": "stderr",
     "output_type": "stream",
     "text": [
      "/usr/local/lib/python3.6/dist-packages/pandas/core/frame.py:2963: SettingWithCopyWarning: \n",
      "A value is trying to be set on a copy of a slice from a DataFrame.\n",
      "Try using .loc[row_indexer,col_indexer] = value instead\n",
      "\n",
      "See the caveats in the documentation: https://pandas.pydata.org/pandas-docs/stable/user_guide/indexing.html#returning-a-view-versus-a-copy\n",
      "  self[k1] = value[k2]\n"
     ]
    }
   ],
   "source": [
    "# Get list of OIICS Code columns remove asterisk from values, replace Nan with zero, and cast all as type integer\n",
    "oiics_codes_list= ['OIICS Part Of Body Code','OIICS Nature of Injury Code','OIICS Injury Source Code','OIICS Event Exposure Code',\n",
    "                   'OIICS Secondary Source Code']\n",
    "from clean_ooics_codes import *\n",
    "\n",
    "clean_ooics_codes(final_df,oiics_codes_list)    \n",
    "              \n",
    "# final_df[oiics_codes_list]=final_df[oiics_codes_list].apply(strip_char).replace(np.NaN,0).astype('int')"
   ]
  },
  {
   "cell_type": "markdown",
   "metadata": {
    "colab_type": "text",
    "id": "bMpGlLKUa3CZ"
   },
   "source": [
    "Coerce dates to datetime"
   ]
  },
  {
   "cell_type": "code",
   "execution_count": 40,
   "metadata": {
    "colab": {
     "base_uri": "https://localhost:8080/",
     "height": 122
    },
    "colab_type": "code",
    "id": "-HXQgYaia6t8",
    "outputId": "4ff5db7a-dc46-4a2a-981e-90fbf8cd80e9"
   },
   "outputs": [
    {
     "name": "stderr",
     "output_type": "stream",
     "text": [
      "/usr/local/lib/python3.6/dist-packages/pandas/core/frame.py:2963: SettingWithCopyWarning: \n",
      "A value is trying to be set on a copy of a slice from a DataFrame.\n",
      "Try using .loc[row_indexer,col_indexer] = value instead\n",
      "\n",
      "See the caveats in the documentation: https://pandas.pydata.org/pandas-docs/stable/user_guide/indexing.html#returning-a-view-versus-a-copy\n",
      "  self[k1] = value[k2]\n"
     ]
    }
   ],
   "source": [
    "# find all column names with word Date and Days and coerce to datetime\n",
    "date='Date'\n",
    "day='Days'\n",
    "\n",
    "dates=[name for name in final_df.columns if date in name]\n",
    "days = [name for name in final_df.columns if day in name]\n",
    "\n",
    "date_names = dates+days\n",
    "\n",
    "final_df[date_names]=final_df[date_names].apply(pd.to_datetime,errors='coerce')"
   ]
  },
  {
   "cell_type": "code",
   "execution_count": 41,
   "metadata": {
    "colab": {
     "base_uri": "https://localhost:8080/",
     "height": 228
    },
    "colab_type": "code",
    "id": "XMM83xl6a-iM",
    "outputId": "525b4b76-80c3-4a79-c4ad-86738fbb35b8"
   },
   "outputs": [
    {
     "name": "stderr",
     "output_type": "stream",
     "text": [
      "/usr/local/lib/python3.6/dist-packages/ipykernel_launcher.py:3: SettingWithCopyWarning: \n",
      "A value is trying to be set on a copy of a slice from a DataFrame.\n",
      "Try using .loc[row_indexer,col_indexer] = value instead\n",
      "\n",
      "See the caveats in the documentation: https://pandas.pydata.org/pandas-docs/stable/user_guide/indexing.html#returning-a-view-versus-a-copy\n",
      "  This is separate from the ipykernel package so we can avoid doing imports until\n",
      "/usr/local/lib/python3.6/dist-packages/ipykernel_launcher.py:4: SettingWithCopyWarning: \n",
      "A value is trying to be set on a copy of a slice from a DataFrame.\n",
      "Try using .loc[row_indexer,col_indexer] = value instead\n",
      "\n",
      "See the caveats in the documentation: https://pandas.pydata.org/pandas-docs/stable/user_guide/indexing.html#returning-a-view-versus-a-copy\n",
      "  after removing the cwd from sys.path.\n"
     ]
    }
   ],
   "source": [
    "# find difference in days from two datetime column values\n",
    "\n",
    "final_df['Days_Accid_Final']=final_df['Final_disposition_Date']-final_df['Accident Date']\n",
    "final_df['Days_Assemb_Final']=final_df['Final_disposition_Date']-final_df['Assembly Date']"
   ]
  },
  {
   "cell_type": "code",
   "execution_count": 42,
   "metadata": {
    "colab": {
     "base_uri": "https://localhost:8080/",
     "height": 248
    },
    "colab_type": "code",
    "id": "kuHBHwcGcI3U",
    "outputId": "dfa305d0-7919-4588-e56d-68bfcc71e590"
   },
   "outputs": [
    {
     "name": "stderr",
     "output_type": "stream",
     "text": [
      "/usr/local/lib/python3.6/dist-packages/ipykernel_launcher.py:2: SettingWithCopyWarning: \n",
      "A value is trying to be set on a copy of a slice from a DataFrame.\n",
      "Try using .loc[row_indexer,col_indexer] = value instead\n",
      "\n",
      "See the caveats in the documentation: https://pandas.pydata.org/pandas-docs/stable/user_guide/indexing.html#returning-a-view-versus-a-copy\n",
      "  \n",
      "/usr/local/lib/python3.6/dist-packages/ipykernel_launcher.py:3: SettingWithCopyWarning: \n",
      "A value is trying to be set on a copy of a slice from a DataFrame.\n",
      "Try using .loc[row_indexer,col_indexer] = value instead\n",
      "\n",
      "See the caveats in the documentation: https://pandas.pydata.org/pandas-docs/stable/user_guide/indexing.html#returning-a-view-versus-a-copy\n",
      "  This is separate from the ipykernel package so we can avoid doing imports until\n"
     ]
    }
   ],
   "source": [
    "# Getting the integer portion of the timedelta to get # of days\n",
    "final_df['Days_Accid_Final']=final_df['Days_Accid_Final'].dt.days\n",
    "final_df['Days_Assemb_Final']=final_df['Days_Assemb_Final'].dt.days"
   ]
  },
  {
   "cell_type": "code",
   "execution_count": 43,
   "metadata": {
    "colab": {
     "base_uri": "https://localhost:8080/",
     "height": 1000
    },
    "colab_type": "code",
    "id": "3hFGH2d1zzr-",
    "outputId": "a97c4607-7a6b-4e07-8a89-a8f8550cba25"
   },
   "outputs": [
    {
     "name": "stdout",
     "output_type": "stream",
     "text": [
      "<class 'pandas.core.frame.DataFrame'>\n",
      "Int64Index: 16514 entries, 100000 to 116513\n",
      "Data columns (total 56 columns):\n",
      " #   Column                              Non-Null Count  Dtype         \n",
      "---  ------                              --------------  -----         \n",
      " 0   Unnamed: 0                          16514 non-null  int64         \n",
      " 1   Claim Identifier                    16514 non-null  int64         \n",
      " 2   Claim Type                          16514 non-null  object        \n",
      " 3   District Name                       16514 non-null  object        \n",
      " 4   Average Weekly Wage                 16514 non-null  float64       \n",
      " 5   Current Claim Status                16514 non-null  object        \n",
      " 6   Claim Injury Type                   16514 non-null  object        \n",
      " 7   Age at Injury                       16514 non-null  int64         \n",
      " 8   Assembly Date                       16514 non-null  datetime64[ns]\n",
      " 9   Accident Date                       16472 non-null  datetime64[ns]\n",
      " 10  ANCR Date                           16514 non-null  datetime64[ns]\n",
      " 11  Controverted Date                   2237 non-null   datetime64[ns]\n",
      " 12  Section 32 Date                     5853 non-null   datetime64[ns]\n",
      " 13  PPD Scheduled Loss Date             9445 non-null   datetime64[ns]\n",
      " 14  PPD Non-Scheduled Loss Date         2905 non-null   datetime64[ns]\n",
      " 15  PTD Date                            281 non-null    datetime64[ns]\n",
      " 16  First Appeal Date                   2551 non-null   datetime64[ns]\n",
      " 17  WCIO Part Of Body Code              8172 non-null   float64       \n",
      " 18  WCIO Part Of Body Description       8172 non-null   object        \n",
      " 19  WCIO Nature of Injury Code          7866 non-null   float64       \n",
      " 20  WCIO Nature of Injury Description   7866 non-null   object        \n",
      " 21  WCIO Cause of Injury Code           7874 non-null   float64       \n",
      " 22  WCIO Cause of Injury Description    7874 non-null   object        \n",
      " 23  OIICS Part Of Body Code             16514 non-null  int64         \n",
      " 24  OIICS Part Of Body Description      12063 non-null  object        \n",
      " 25  OIICS Nature of Injury Code         16514 non-null  int64         \n",
      " 26  OIICS Nature of Injury Description  12063 non-null  object        \n",
      " 27  OIICS Injury Source Code            16514 non-null  int64         \n",
      " 28  OIICS Injury Source Description     12063 non-null  object        \n",
      " 29  OIICS Event Exposure Code           16514 non-null  int64         \n",
      " 30  OIICS Event Exposure Description    12063 non-null  object        \n",
      " 31  OIICS Secondary Source Code         16514 non-null  int64         \n",
      " 32  OIICS Secondary Source Description  12061 non-null  object        \n",
      " 33  Alternative Dispute Resolution      16514 non-null  object        \n",
      " 34  Gender                              16514 non-null  object        \n",
      " 35  Birth Year                          16514 non-null  int64         \n",
      " 36  Zip Code                            16508 non-null  float64       \n",
      " 37  Medical Fee Region                  16514 non-null  object        \n",
      " 38  C-2 Date                            10440 non-null  datetime64[ns]\n",
      " 39  C-3 Date                            13411 non-null  datetime64[ns]\n",
      " 40  First Hearing Date                  14866 non-null  datetime64[ns]\n",
      " 41  Highest Process                     16514 non-null  object        \n",
      " 42  Hearing Count                       16514 non-null  int64         \n",
      " 43  Closed Count                        16514 non-null  int64         \n",
      " 44  Attorney/Representative             16514 non-null  object        \n",
      " 45  Carrier Name                        16514 non-null  object        \n",
      " 46  Carrier Type                        16514 non-null  object        \n",
      " 47  IME-4 Count                         13849 non-null  float64       \n",
      " 48  Interval Assembled to ANCR          16514 non-null  object        \n",
      " 49  Accident                            16514 non-null  object        \n",
      " 50  Occupational Disease                16514 non-null  object        \n",
      " 51  County of Injury                    16514 non-null  object        \n",
      " 52  Final_disposition                   16514 non-null  object        \n",
      " 53  Final_disposition_Date              16514 non-null  datetime64[ns]\n",
      " 54  Days_Accid_Final                    16472 non-null  float64       \n",
      " 55  Days_Assemb_Final                   16514 non-null  int64         \n",
      "dtypes: datetime64[ns](13), float64(7), int64(12), object(24)\n",
      "memory usage: 7.2+ MB\n"
     ]
    }
   ],
   "source": [
    "final_df.info()"
   ]
  },
  {
   "cell_type": "markdown",
   "metadata": {
    "colab_type": "text",
    "id": "AFA5itGooWsj"
   },
   "source": [
    "### Dropping unneeded columns and rows"
   ]
  },
  {
   "cell_type": "code",
   "execution_count": 44,
   "metadata": {
    "colab": {},
    "colab_type": "code",
    "id": "n5sHviTToaZr"
   },
   "outputs": [],
   "source": [
    "# unneeded columns 'Section 32 Date','PPD Scheduled Loss Date','PPD Non-Scheduled Loss Date','PTD Date' as they are now all \n",
    "# combined into Final Disposition Date column\n",
    "unneed_cols= ['Unnamed: 0', 'Claim Identifier', 'Section 32 Date','PPD Scheduled Loss Date','PPD Non-Scheduled Loss Date',\n",
    "              'PTD Date','Medical Fee Region']\n",
    "\n",
    "# Get column names with word Description and drop, value captured in the associated code columns\n",
    "description='Description'\n",
    "desc_cols = [name for name in final_df.columns if description in name]\n",
    "\n",
    "drop_cols = unneed_cols + desc_cols\n",
    "\n",
    "scoped_df= final_df.drop(columns=drop_cols,axis=1)"
   ]
  },
  {
   "cell_type": "code",
   "execution_count": 46,
   "metadata": {
    "colab": {
     "base_uri": "https://localhost:8080/",
     "height": 34
    },
    "colab_type": "code",
    "id": "LNrjmJw80xMe",
    "outputId": "293baf57-b645-4547-93d9-311f46dd2017"
   },
   "outputs": [
    {
     "data": {
      "text/plain": [
       "((16514, 56), (16514, 41))"
      ]
     },
     "execution_count": 46,
     "metadata": {
      "tags": []
     },
     "output_type": "execute_result"
    }
   ],
   "source": [
    "final_df.shape,scoped_df.shape\n",
    "((16514, 56), (16514, 41))"
   ]
  },
  {
   "cell_type": "code",
   "execution_count": 47,
   "metadata": {
    "colab": {
     "base_uri": "https://localhost:8080/",
     "height": 367
    },
    "colab_type": "code",
    "id": "aAoEqsBSbl9U",
    "outputId": "869d7500-bc27-4699-bc72-ac7cbfde0ffd"
   },
   "outputs": [
    {
     "data": {
      "text/html": [
       "<div>\n",
       "<style scoped>\n",
       "    .dataframe tbody tr th:only-of-type {\n",
       "        vertical-align: middle;\n",
       "    }\n",
       "\n",
       "    .dataframe tbody tr th {\n",
       "        vertical-align: top;\n",
       "    }\n",
       "\n",
       "    .dataframe thead th {\n",
       "        text-align: right;\n",
       "    }\n",
       "</style>\n",
       "<table border=\"1\" class=\"dataframe\">\n",
       "  <thead>\n",
       "    <tr style=\"text-align: right;\">\n",
       "      <th></th>\n",
       "      <th>Average Weekly Wage</th>\n",
       "      <th>Age at Injury</th>\n",
       "      <th>WCIO Part Of Body Code</th>\n",
       "      <th>WCIO Nature of Injury Code</th>\n",
       "      <th>WCIO Cause of Injury Code</th>\n",
       "      <th>OIICS Part Of Body Code</th>\n",
       "      <th>OIICS Nature of Injury Code</th>\n",
       "      <th>OIICS Injury Source Code</th>\n",
       "      <th>OIICS Event Exposure Code</th>\n",
       "      <th>OIICS Secondary Source Code</th>\n",
       "      <th>Birth Year</th>\n",
       "      <th>Zip Code</th>\n",
       "      <th>Hearing Count</th>\n",
       "      <th>Closed Count</th>\n",
       "      <th>IME-4 Count</th>\n",
       "      <th>Days_Accid_Final</th>\n",
       "      <th>Days_Assemb_Final</th>\n",
       "    </tr>\n",
       "  </thead>\n",
       "  <tbody>\n",
       "    <tr>\n",
       "      <th>count</th>\n",
       "      <td>16514.000000</td>\n",
       "      <td>16514.000000</td>\n",
       "      <td>8172.000000</td>\n",
       "      <td>7866.000000</td>\n",
       "      <td>7874.000000</td>\n",
       "      <td>16514.000000</td>\n",
       "      <td>16514.000000</td>\n",
       "      <td>16514.000000</td>\n",
       "      <td>16514.000000</td>\n",
       "      <td>16514.000000</td>\n",
       "      <td>16514.000000</td>\n",
       "      <td>16508.000000</td>\n",
       "      <td>16514.000000</td>\n",
       "      <td>16514.000000</td>\n",
       "      <td>13849.000000</td>\n",
       "      <td>16472.000000</td>\n",
       "      <td>16514.000000</td>\n",
       "    </tr>\n",
       "    <tr>\n",
       "      <th>mean</th>\n",
       "      <td>1029.560812</td>\n",
       "      <td>41.195713</td>\n",
       "      <td>45.394763</td>\n",
       "      <td>43.395627</td>\n",
       "      <td>52.012827</td>\n",
       "      <td>18.676093</td>\n",
       "      <td>4.664648</td>\n",
       "      <td>42.032639</td>\n",
       "      <td>16.096585</td>\n",
       "      <td>43.573211</td>\n",
       "      <td>1172.823301</td>\n",
       "      <td>6435.117034</td>\n",
       "      <td>4.937205</td>\n",
       "      <td>4.662892</td>\n",
       "      <td>5.162467</td>\n",
       "      <td>1364.951251</td>\n",
       "      <td>1202.401356</td>\n",
       "    </tr>\n",
       "    <tr>\n",
       "      <th>std</th>\n",
       "      <td>1279.813668</td>\n",
       "      <td>16.730467</td>\n",
       "      <td>18.955766</td>\n",
       "      <td>20.621546</td>\n",
       "      <td>24.147709</td>\n",
       "      <td>16.681049</td>\n",
       "      <td>13.938508</td>\n",
       "      <td>32.175465</td>\n",
       "      <td>19.623815</td>\n",
       "      <td>35.118114</td>\n",
       "      <td>963.295256</td>\n",
       "      <td>1880.811029</td>\n",
       "      <td>4.614556</td>\n",
       "      <td>3.081233</td>\n",
       "      <td>5.286153</td>\n",
       "      <td>1095.737882</td>\n",
       "      <td>941.602392</td>\n",
       "    </tr>\n",
       "    <tr>\n",
       "      <th>min</th>\n",
       "      <td>0.000000</td>\n",
       "      <td>0.000000</td>\n",
       "      <td>10.000000</td>\n",
       "      <td>1.000000</td>\n",
       "      <td>1.000000</td>\n",
       "      <td>0.000000</td>\n",
       "      <td>0.000000</td>\n",
       "      <td>0.000000</td>\n",
       "      <td>0.000000</td>\n",
       "      <td>0.000000</td>\n",
       "      <td>0.000000</td>\n",
       "      <td>0.000000</td>\n",
       "      <td>0.000000</td>\n",
       "      <td>1.000000</td>\n",
       "      <td>1.000000</td>\n",
       "      <td>38.000000</td>\n",
       "      <td>4.000000</td>\n",
       "    </tr>\n",
       "    <tr>\n",
       "      <th>25%</th>\n",
       "      <td>591.610000</td>\n",
       "      <td>34.000000</td>\n",
       "      <td>35.000000</td>\n",
       "      <td>28.000000</td>\n",
       "      <td>30.000000</td>\n",
       "      <td>0.000000</td>\n",
       "      <td>0.000000</td>\n",
       "      <td>0.000000</td>\n",
       "      <td>0.000000</td>\n",
       "      <td>0.000000</td>\n",
       "      <td>0.000000</td>\n",
       "      <td>6708.000000</td>\n",
       "      <td>2.000000</td>\n",
       "      <td>2.000000</td>\n",
       "      <td>2.000000</td>\n",
       "      <td>680.000000</td>\n",
       "      <td>588.000000</td>\n",
       "    </tr>\n",
       "    <tr>\n",
       "      <th>50%</th>\n",
       "      <td>872.370000</td>\n",
       "      <td>44.000000</td>\n",
       "      <td>42.000000</td>\n",
       "      <td>49.000000</td>\n",
       "      <td>56.000000</td>\n",
       "      <td>21.000000</td>\n",
       "      <td>1.000000</td>\n",
       "      <td>56.000000</td>\n",
       "      <td>13.000000</td>\n",
       "      <td>49.000000</td>\n",
       "      <td>1953.000000</td>\n",
       "      <td>7060.000000</td>\n",
       "      <td>4.000000</td>\n",
       "      <td>4.000000</td>\n",
       "      <td>3.000000</td>\n",
       "      <td>1026.000000</td>\n",
       "      <td>918.000000</td>\n",
       "    </tr>\n",
       "    <tr>\n",
       "      <th>75%</th>\n",
       "      <td>1346.150000</td>\n",
       "      <td>53.000000</td>\n",
       "      <td>53.000000</td>\n",
       "      <td>52.000000</td>\n",
       "      <td>68.000000</td>\n",
       "      <td>32.000000</td>\n",
       "      <td>2.000000</td>\n",
       "      <td>62.000000</td>\n",
       "      <td>22.000000</td>\n",
       "      <td>74.000000</td>\n",
       "      <td>1966.000000</td>\n",
       "      <td>7421.000000</td>\n",
       "      <td>7.000000</td>\n",
       "      <td>6.000000</td>\n",
       "      <td>7.000000</td>\n",
       "      <td>1648.000000</td>\n",
       "      <td>1483.750000</td>\n",
       "    </tr>\n",
       "    <tr>\n",
       "      <th>max</th>\n",
       "      <td>121298.000000</td>\n",
       "      <td>95.000000</td>\n",
       "      <td>99.000000</td>\n",
       "      <td>91.000000</td>\n",
       "      <td>99.000000</td>\n",
       "      <td>99.000000</td>\n",
       "      <td>99.000000</td>\n",
       "      <td>99.000000</td>\n",
       "      <td>99.000000</td>\n",
       "      <td>99.000000</td>\n",
       "      <td>1999.000000</td>\n",
       "      <td>7747.000000</td>\n",
       "      <td>50.000000</td>\n",
       "      <td>31.000000</td>\n",
       "      <td>96.000000</td>\n",
       "      <td>12261.000000</td>\n",
       "      <td>7146.000000</td>\n",
       "    </tr>\n",
       "  </tbody>\n",
       "</table>\n",
       "</div>"
      ],
      "text/plain": [
       "       Average Weekly Wage  Age at Injury  WCIO Part Of Body Code  \\\n",
       "count         16514.000000   16514.000000             8172.000000   \n",
       "mean           1029.560812      41.195713               45.394763   \n",
       "std            1279.813668      16.730467               18.955766   \n",
       "min               0.000000       0.000000               10.000000   \n",
       "25%             591.610000      34.000000               35.000000   \n",
       "50%             872.370000      44.000000               42.000000   \n",
       "75%            1346.150000      53.000000               53.000000   \n",
       "max          121298.000000      95.000000               99.000000   \n",
       "\n",
       "       WCIO Nature of Injury Code  WCIO Cause of Injury Code  \\\n",
       "count                 7866.000000                7874.000000   \n",
       "mean                    43.395627                  52.012827   \n",
       "std                     20.621546                  24.147709   \n",
       "min                      1.000000                   1.000000   \n",
       "25%                     28.000000                  30.000000   \n",
       "50%                     49.000000                  56.000000   \n",
       "75%                     52.000000                  68.000000   \n",
       "max                     91.000000                  99.000000   \n",
       "\n",
       "       OIICS Part Of Body Code  OIICS Nature of Injury Code  \\\n",
       "count             16514.000000                 16514.000000   \n",
       "mean                 18.676093                     4.664648   \n",
       "std                  16.681049                    13.938508   \n",
       "min                   0.000000                     0.000000   \n",
       "25%                   0.000000                     0.000000   \n",
       "50%                  21.000000                     1.000000   \n",
       "75%                  32.000000                     2.000000   \n",
       "max                  99.000000                    99.000000   \n",
       "\n",
       "       OIICS Injury Source Code  OIICS Event Exposure Code  \\\n",
       "count              16514.000000               16514.000000   \n",
       "mean                  42.032639                  16.096585   \n",
       "std                   32.175465                  19.623815   \n",
       "min                    0.000000                   0.000000   \n",
       "25%                    0.000000                   0.000000   \n",
       "50%                   56.000000                  13.000000   \n",
       "75%                   62.000000                  22.000000   \n",
       "max                   99.000000                  99.000000   \n",
       "\n",
       "       OIICS Secondary Source Code    Birth Year      Zip Code  Hearing Count  \\\n",
       "count                 16514.000000  16514.000000  16508.000000   16514.000000   \n",
       "mean                     43.573211   1172.823301   6435.117034       4.937205   \n",
       "std                      35.118114    963.295256   1880.811029       4.614556   \n",
       "min                       0.000000      0.000000      0.000000       0.000000   \n",
       "25%                       0.000000      0.000000   6708.000000       2.000000   \n",
       "50%                      49.000000   1953.000000   7060.000000       4.000000   \n",
       "75%                      74.000000   1966.000000   7421.000000       7.000000   \n",
       "max                      99.000000   1999.000000   7747.000000      50.000000   \n",
       "\n",
       "       Closed Count   IME-4 Count  Days_Accid_Final  Days_Assemb_Final  \n",
       "count  16514.000000  13849.000000      16472.000000       16514.000000  \n",
       "mean       4.662892      5.162467       1364.951251        1202.401356  \n",
       "std        3.081233      5.286153       1095.737882         941.602392  \n",
       "min        1.000000      1.000000         38.000000           4.000000  \n",
       "25%        2.000000      2.000000        680.000000         588.000000  \n",
       "50%        4.000000      3.000000       1026.000000         918.000000  \n",
       "75%        6.000000      7.000000       1648.000000        1483.750000  \n",
       "max       31.000000     96.000000      12261.000000        7146.000000  "
      ]
     },
     "execution_count": 47,
     "metadata": {
      "tags": []
     },
     "output_type": "execute_result"
    }
   ],
   "source": [
    "scoped_df.describe()"
   ]
  },
  {
   "cell_type": "code",
   "execution_count": 48,
   "metadata": {
    "colab": {
     "base_uri": "https://localhost:8080/",
     "height": 862
    },
    "colab_type": "code",
    "id": "z6g6mT_5obNQ",
    "outputId": "c18a4a2b-44d7-4bc1-9f2b-8c27ed5c9c1a"
   },
   "outputs": [
    {
     "name": "stdout",
     "output_type": "stream",
     "text": [
      "<class 'pandas.core.frame.DataFrame'>\n",
      "Int64Index: 16514 entries, 100000 to 116513\n",
      "Data columns (total 41 columns):\n",
      " #   Column                          Non-Null Count  Dtype         \n",
      "---  ------                          --------------  -----         \n",
      " 0   Claim Type                      16514 non-null  object        \n",
      " 1   District Name                   16514 non-null  object        \n",
      " 2   Average Weekly Wage             16514 non-null  float64       \n",
      " 3   Current Claim Status            16514 non-null  object        \n",
      " 4   Claim Injury Type               16514 non-null  object        \n",
      " 5   Age at Injury                   16514 non-null  int64         \n",
      " 6   Assembly Date                   16514 non-null  datetime64[ns]\n",
      " 7   Accident Date                   16472 non-null  datetime64[ns]\n",
      " 8   ANCR Date                       16514 non-null  datetime64[ns]\n",
      " 9   Controverted Date               2237 non-null   datetime64[ns]\n",
      " 10  First Appeal Date               2551 non-null   datetime64[ns]\n",
      " 11  WCIO Part Of Body Code          8172 non-null   float64       \n",
      " 12  WCIO Nature of Injury Code      7866 non-null   float64       \n",
      " 13  WCIO Cause of Injury Code       7874 non-null   float64       \n",
      " 14  OIICS Part Of Body Code         16514 non-null  int64         \n",
      " 15  OIICS Nature of Injury Code     16514 non-null  int64         \n",
      " 16  OIICS Injury Source Code        16514 non-null  int64         \n",
      " 17  OIICS Event Exposure Code       16514 non-null  int64         \n",
      " 18  OIICS Secondary Source Code     16514 non-null  int64         \n",
      " 19  Alternative Dispute Resolution  16514 non-null  object        \n",
      " 20  Gender                          16514 non-null  object        \n",
      " 21  Birth Year                      16514 non-null  int64         \n",
      " 22  Zip Code                        16508 non-null  float64       \n",
      " 23  C-2 Date                        10440 non-null  datetime64[ns]\n",
      " 24  C-3 Date                        13411 non-null  datetime64[ns]\n",
      " 25  First Hearing Date              14866 non-null  datetime64[ns]\n",
      " 26  Highest Process                 16514 non-null  object        \n",
      " 27  Hearing Count                   16514 non-null  int64         \n",
      " 28  Closed Count                    16514 non-null  int64         \n",
      " 29  Attorney/Representative         16514 non-null  object        \n",
      " 30  Carrier Name                    16514 non-null  object        \n",
      " 31  Carrier Type                    16514 non-null  object        \n",
      " 32  IME-4 Count                     13849 non-null  float64       \n",
      " 33  Interval Assembled to ANCR      16514 non-null  object        \n",
      " 34  Accident                        16514 non-null  object        \n",
      " 35  Occupational Disease            16514 non-null  object        \n",
      " 36  County of Injury                16514 non-null  object        \n",
      " 37  Final_disposition               16514 non-null  object        \n",
      " 38  Final_disposition_Date          16514 non-null  datetime64[ns]\n",
      " 39  Days_Accid_Final                16472 non-null  float64       \n",
      " 40  Days_Assemb_Final               16514 non-null  int64         \n",
      "dtypes: datetime64[ns](9), float64(7), int64(10), object(15)\n",
      "memory usage: 5.3+ MB\n"
     ]
    }
   ],
   "source": [
    "scoped_df.info()"
   ]
  },
  {
   "cell_type": "code",
   "execution_count": 50,
   "metadata": {
    "colab": {
     "base_uri": "https://localhost:8080/",
     "height": 34
    },
    "colab_type": "code",
    "id": "Dc9Ui5OFpEgy",
    "outputId": "0cb74fb0-8fdf-4103-e244-8e1c3b234462"
   },
   "outputs": [
    {
     "data": {
      "text/plain": [
       "(16514, 9)"
      ]
     },
     "execution_count": 50,
     "metadata": {
      "tags": []
     },
     "output_type": "execute_result"
    }
   ],
   "source": [
    "datetime_df=scoped_df.select_dtypes(include='datetime64')\n",
    "datetime_df.shape"
   ]
  },
  {
   "cell_type": "code",
   "execution_count": 58,
   "metadata": {
    "colab": {},
    "colab_type": "code",
    "id": "xbnXHvCyr6Sf"
   },
   "outputs": [],
   "source": [
    "date_cols= datetime_df.columns"
   ]
  },
  {
   "cell_type": "code",
   "execution_count": 59,
   "metadata": {
    "colab": {
     "base_uri": "https://localhost:8080/",
     "height": 350
    },
    "colab_type": "code",
    "id": "1bKX2dnSpfAX",
    "outputId": "4ccadce7-3a7f-46c2-b078-af106ea31a3a"
   },
   "outputs": [
    {
     "ename": "AttributeError",
     "evalue": "ignored",
     "output_type": "error",
     "traceback": [
      "\u001b[0;31m---------------------------------------------------------------------------\u001b[0m",
      "\u001b[0;31mAttributeError\u001b[0m                            Traceback (most recent call last)",
      "\u001b[0;32m<ipython-input-59-d97e8e760153>\u001b[0m in \u001b[0;36m<module>\u001b[0;34m()\u001b[0m\n\u001b[1;32m      1\u001b[0m \u001b[0;32mfrom\u001b[0m \u001b[0madd_datepart\u001b[0m \u001b[0;32mimport\u001b[0m \u001b[0;34m*\u001b[0m\u001b[0;34m\u001b[0m\u001b[0;34m\u001b[0m\u001b[0m\n\u001b[1;32m      2\u001b[0m \u001b[0;34m\u001b[0m\u001b[0m\n\u001b[0;32m----> 3\u001b[0;31m \u001b[0madd_datepart\u001b[0m\u001b[0;34m(\u001b[0m\u001b[0mdatetime_df\u001b[0m\u001b[0;34m,\u001b[0m\u001b[0mdate_cols\u001b[0m\u001b[0;34m)\u001b[0m\u001b[0;34m\u001b[0m\u001b[0;34m\u001b[0m\u001b[0m\n\u001b[0m",
      "\u001b[0;32m/content/add_datepart.py\u001b[0m in \u001b[0;36madd_datepart\u001b[0;34m(df, colname, drop, time, errors)\u001b[0m\n\u001b[1;32m      4\u001b[0m \u001b[0;32mdef\u001b[0m \u001b[0madd_datepart\u001b[0m\u001b[0;34m(\u001b[0m\u001b[0mdf\u001b[0m\u001b[0;34m,\u001b[0m \u001b[0mcolnames\u001b[0m\u001b[0;34m,\u001b[0m \u001b[0mdrop\u001b[0m\u001b[0;34m=\u001b[0m\u001b[0;32mTrue\u001b[0m\u001b[0;34m,\u001b[0m \u001b[0mtime\u001b[0m\u001b[0;34m=\u001b[0m\u001b[0;32mFalse\u001b[0m\u001b[0;34m,\u001b[0m \u001b[0merrors\u001b[0m\u001b[0;34m=\u001b[0m\u001b[0;34m\"raise\"\u001b[0m\u001b[0;34m)\u001b[0m\u001b[0;34m:\u001b[0m\u001b[0;34m\u001b[0m\u001b[0;34m\u001b[0m\u001b[0m\n\u001b[1;32m      5\u001b[0m   \u001b[0;32mfor\u001b[0m \u001b[0mcolname\u001b[0m \u001b[0;32min\u001b[0m \u001b[0mcolnames\u001b[0m\u001b[0;34m:\u001b[0m\u001b[0;34m\u001b[0m\u001b[0;34m\u001b[0m\u001b[0m\n\u001b[0;32m----> 6\u001b[0;31m     \u001b[0mcol\u001b[0m \u001b[0;34m=\u001b[0m \u001b[0mdf\u001b[0m\u001b[0;34m[\u001b[0m\u001b[0mcolname\u001b[0m\u001b[0;34m]\u001b[0m\u001b[0;34m\u001b[0m\u001b[0;34m\u001b[0m\u001b[0m\n\u001b[0m\u001b[1;32m      7\u001b[0m     \u001b[0mcol_dtype\u001b[0m \u001b[0;34m=\u001b[0m \u001b[0mcol\u001b[0m\u001b[0;34m.\u001b[0m\u001b[0mdtype\u001b[0m\u001b[0;34m\u001b[0m\u001b[0;34m\u001b[0m\u001b[0m\n\u001b[1;32m      8\u001b[0m     \u001b[0;32mif\u001b[0m \u001b[0misinstance\u001b[0m\u001b[0;34m(\u001b[0m\u001b[0mcol_dtype\u001b[0m\u001b[0;34m,\u001b[0m \u001b[0mpd\u001b[0m\u001b[0;34m.\u001b[0m\u001b[0mcore\u001b[0m\u001b[0;34m.\u001b[0m\u001b[0mdtypes\u001b[0m\u001b[0;34m.\u001b[0m\u001b[0mdtypes\u001b[0m\u001b[0;34m.\u001b[0m\u001b[0mDatetimeTZDtype\u001b[0m\u001b[0;34m)\u001b[0m\u001b[0;34m:\u001b[0m\u001b[0;34m\u001b[0m\u001b[0;34m\u001b[0m\u001b[0m\n",
      "\u001b[0;32m/usr/local/lib/python3.6/dist-packages/pandas/core/generic.py\u001b[0m in \u001b[0;36m__getattr__\u001b[0;34m(self, name)\u001b[0m\n\u001b[1;32m   5272\u001b[0m             \u001b[0;32mif\u001b[0m \u001b[0mself\u001b[0m\u001b[0;34m.\u001b[0m\u001b[0m_info_axis\u001b[0m\u001b[0;34m.\u001b[0m\u001b[0m_can_hold_identifiers_and_holds_name\u001b[0m\u001b[0;34m(\u001b[0m\u001b[0mname\u001b[0m\u001b[0;34m)\u001b[0m\u001b[0;34m:\u001b[0m\u001b[0;34m\u001b[0m\u001b[0;34m\u001b[0m\u001b[0m\n\u001b[1;32m   5273\u001b[0m                 \u001b[0;32mreturn\u001b[0m \u001b[0mself\u001b[0m\u001b[0;34m[\u001b[0m\u001b[0mname\u001b[0m\u001b[0;34m]\u001b[0m\u001b[0;34m\u001b[0m\u001b[0;34m\u001b[0m\u001b[0m\n\u001b[0;32m-> 5274\u001b[0;31m             \u001b[0;32mreturn\u001b[0m \u001b[0mobject\u001b[0m\u001b[0;34m.\u001b[0m\u001b[0m__getattribute__\u001b[0m\u001b[0;34m(\u001b[0m\u001b[0mself\u001b[0m\u001b[0;34m,\u001b[0m \u001b[0mname\u001b[0m\u001b[0;34m)\u001b[0m\u001b[0;34m\u001b[0m\u001b[0;34m\u001b[0m\u001b[0m\n\u001b[0m\u001b[1;32m   5275\u001b[0m \u001b[0;34m\u001b[0m\u001b[0m\n\u001b[1;32m   5276\u001b[0m     \u001b[0;32mdef\u001b[0m \u001b[0m__setattr__\u001b[0m\u001b[0;34m(\u001b[0m\u001b[0mself\u001b[0m\u001b[0;34m,\u001b[0m \u001b[0mname\u001b[0m\u001b[0;34m:\u001b[0m \u001b[0mstr\u001b[0m\u001b[0;34m,\u001b[0m \u001b[0mvalue\u001b[0m\u001b[0;34m)\u001b[0m \u001b[0;34m->\u001b[0m \u001b[0;32mNone\u001b[0m\u001b[0;34m:\u001b[0m\u001b[0;34m\u001b[0m\u001b[0;34m\u001b[0m\u001b[0m\n",
      "\u001b[0;31mAttributeError\u001b[0m: 'DataFrame' object has no attribute 'dtype'"
     ]
    }
   ],
   "source": [
    "from add_datepart import *\n",
    "\n",
    "add_datepart(datetime_df,date_cols)"
   ]
  },
  {
   "cell_type": "code",
   "execution_count": null,
   "metadata": {
    "colab": {},
    "colab_type": "code",
    "id": "KYR4iQXib7dE"
   },
   "outputs": [],
   "source": [
    "num_df = scoped_df.select_dtypes(include='number')"
   ]
  },
  {
   "cell_type": "code",
   "execution_count": null,
   "metadata": {
    "colab": {},
    "colab_type": "code",
    "id": "r98Gg0V63gmk"
   },
   "outputs": [],
   "source": [
    "obj_df = scoped_df.select_dtypes(exclude='number')"
   ]
  },
  {
   "cell_type": "code",
   "execution_count": null,
   "metadata": {
    "colab": {
     "base_uri": "https://localhost:8080/",
     "height": 422
    },
    "colab_type": "code",
    "id": "WfPSDxijndEL",
    "outputId": "d3afaa7a-7fa2-4202-ec45-509cbee7c1a8"
   },
   "outputs": [
    {
     "name": "stdout",
     "output_type": "stream",
     "text": [
      "<class 'pandas.core.frame.DataFrame'>\n",
      "Int64Index: 16514 entries, 100000 to 116513\n",
      "Data columns (total 16 columns):\n",
      " #   Column                       Non-Null Count  Dtype  \n",
      "---  ------                       --------------  -----  \n",
      " 0   Average Weekly Wage          16514 non-null  float64\n",
      " 1   Age at Injury                16514 non-null  int64  \n",
      " 2   WCIO Part Of Body Code       8172 non-null   float64\n",
      " 3   WCIO Nature of Injury Code   7866 non-null   float64\n",
      " 4   WCIO Cause of Injury Code    7874 non-null   float64\n",
      " 5   OIICS Part Of Body Code      16514 non-null  int64  \n",
      " 6   OIICS Nature of Injury Code  16514 non-null  int64  \n",
      " 7   OIICS Injury Source Code     16514 non-null  int64  \n",
      " 8   OIICS Event Exposure Code    16514 non-null  int64  \n",
      " 9   OIICS Secondary Source Code  16514 non-null  int64  \n",
      " 10  Birth Year                   16514 non-null  int64  \n",
      " 11  Hearing Count                16514 non-null  int64  \n",
      " 12  Closed Count                 16514 non-null  int64  \n",
      " 13  IME-4 Count                  13849 non-null  float64\n",
      " 14  Days_Accid_Final             16472 non-null  float64\n",
      " 15  Days_Assemb_Final            16514 non-null  int64  \n",
      "dtypes: float64(6), int64(10)\n",
      "memory usage: 2.8 MB\n"
     ]
    }
   ],
   "source": [
    "num_df.info()"
   ]
  },
  {
   "cell_type": "code",
   "execution_count": null,
   "metadata": {
    "colab": {
     "base_uri": "https://localhost:8080/",
     "height": 34
    },
    "colab_type": "code",
    "id": "0xbjZe_tY2NF",
    "outputId": "9a2459fc-2115-4b07-d526-a580c5e97d5f"
   },
   "outputs": [
    {
     "data": {
      "text/plain": [
       "2665"
      ]
     },
     "execution_count": 63,
     "metadata": {
      "tags": []
     },
     "output_type": "execute_result"
    }
   ],
   "source": [
    "num_df['IME-4 Count'].isna().sum()"
   ]
  },
  {
   "cell_type": "code",
   "execution_count": null,
   "metadata": {
    "colab": {
     "base_uri": "https://localhost:8080/",
     "height": 580
    },
    "colab_type": "code",
    "id": "o8ITvFfR2wDF",
    "outputId": "c58b3529-039d-41e8-e99c-c81a3e66b40d"
   },
   "outputs": [
    {
     "name": "stdout",
     "output_type": "stream",
     "text": [
      "<class 'pandas.core.frame.DataFrame'>\n",
      "Int64Index: 16514 entries, 100000 to 116513\n",
      "Data columns (total 25 columns):\n",
      " #   Column                          Non-Null Count  Dtype         \n",
      "---  ------                          --------------  -----         \n",
      " 0   Claim Type                      16514 non-null  object        \n",
      " 1   District Name                   16514 non-null  object        \n",
      " 2   Current Claim Status            16514 non-null  object        \n",
      " 3   Claim Injury Type               16514 non-null  object        \n",
      " 4   Assembly Date                   16514 non-null  datetime64[ns]\n",
      " 5   Accident Date                   16472 non-null  datetime64[ns]\n",
      " 6   ANCR Date                       16514 non-null  datetime64[ns]\n",
      " 7   Controverted Date               2237 non-null   datetime64[ns]\n",
      " 8   First Appeal Date               2551 non-null   datetime64[ns]\n",
      " 9   Alternative Dispute Resolution  16514 non-null  object        \n",
      " 10  Gender                          16514 non-null  object        \n",
      " 11  Zip Code                        16514 non-null  object        \n",
      " 12  C-2 Date                        10440 non-null  datetime64[ns]\n",
      " 13  C-3 Date                        13411 non-null  datetime64[ns]\n",
      " 14  First Hearing Date              14866 non-null  datetime64[ns]\n",
      " 15  Highest Process                 16514 non-null  object        \n",
      " 16  Attorney/Representative         16514 non-null  object        \n",
      " 17  Carrier Name                    16514 non-null  object        \n",
      " 18  Carrier Type                    16514 non-null  object        \n",
      " 19  Interval Assembled to ANCR      16514 non-null  object        \n",
      " 20  Accident                        16514 non-null  object        \n",
      " 21  Occupational Disease            16514 non-null  object        \n",
      " 22  County of Injury                16514 non-null  object        \n",
      " 23  Final_disposition               16514 non-null  object        \n",
      " 24  Final_disposition_Date          16514 non-null  datetime64[ns]\n",
      "dtypes: datetime64[ns](9), object(16)\n",
      "memory usage: 3.9+ MB\n"
     ]
    }
   ],
   "source": [
    "obj_df.info()"
   ]
  },
  {
   "cell_type": "code",
   "execution_count": null,
   "metadata": {
    "colab": {},
    "colab_type": "code",
    "id": "i8efsHj2S-DO"
   },
   "outputs": [],
   "source": [
    "object_df = obj_df.select_dtypes(include='object')"
   ]
  },
  {
   "cell_type": "code",
   "execution_count": null,
   "metadata": {
    "colab": {},
    "colab_type": "code",
    "id": "THWp4t23TeXU"
   },
   "outputs": [],
   "source": [
    "date_df = obj_df.select_dtypes(exclude='object')"
   ]
  },
  {
   "cell_type": "code",
   "execution_count": null,
   "metadata": {
    "colab": {
     "base_uri": "https://localhost:8080/",
     "height": 34
    },
    "colab_type": "code",
    "id": "BeTxNAvlTZ-T",
    "outputId": "b8ff78de-5bf0-4413-bc96-58a03041bb80"
   },
   "outputs": [
    {
     "data": {
      "text/plain": [
       "((16514, 16), (16514, 9))"
      ]
     },
     "execution_count": 49,
     "metadata": {
      "tags": []
     },
     "output_type": "execute_result"
    }
   ],
   "source": [
    "object_df.shape, date_df.shape"
   ]
  },
  {
   "cell_type": "code",
   "execution_count": null,
   "metadata": {
    "colab": {},
    "colab_type": "code",
    "id": "67S9Mr2OT3Ua"
   },
   "outputs": [],
   "source": []
  },
  {
   "cell_type": "markdown",
   "metadata": {
    "colab_type": "text",
    "id": "EwaJWm9jEQ4Q"
   },
   "source": [
    "### Imputing missing numerical data"
   ]
  },
  {
   "cell_type": "code",
   "execution_count": null,
   "metadata": {
    "colab": {},
    "colab_type": "code",
    "id": "D8jzOscv3Vwa"
   },
   "outputs": [],
   "source": [
    "from sklearn_pandas import DataFrameMapper, FunctionTransformer\n",
    "from sklearn.impute import SimpleImputer, MissingIndicator\n",
    "from sklearn.preprocessing import LabelEncoder\n"
   ]
  },
  {
   "cell_type": "code",
   "execution_count": null,
   "metadata": {
    "colab": {},
    "colab_type": "code",
    "id": "YZUHievkbhp3"
   },
   "outputs": [],
   "source": [
    "wcio='WCIO'\n",
    "\n",
    "wcio_cols=[name for name in num_df.columns if wcio in name]"
   ]
  },
  {
   "cell_type": "code",
   "execution_count": null,
   "metadata": {
    "colab": {},
    "colab_type": "code",
    "id": "tDDIeDkhSxQQ"
   },
   "outputs": [],
   "source": [
    "mapper = DataFrameMapper(features=[\n",
    " (['Age at Injury'], SimpleImputer(missing_values=np.nan,strategy='mean')),\n",
    "  (['Age at Injury'], MissingIndicator(),{'alias':'Missing_Age'}),\n",
    "  ([col for col in wcio_cols], SimpleImputer(strategy='constant')),\n",
    "  (['Days_Accid_Final'], SimpleImputer(missing_values=np.nan,strategy='mean')),\n",
    "  (['IME-4 Count'], SimpleImputer(strategy='constant')),\n",
    "    \n",
    "], df_out=True)\n"
   ]
  },
  {
   "cell_type": "code",
   "execution_count": null,
   "metadata": {
    "colab": {},
    "colab_type": "code",
    "id": "6XpfejTnad9J"
   },
   "outputs": [],
   "source": [
    "mapper.fit_transform"
   ]
  },
  {
   "cell_type": "code",
   "execution_count": null,
   "metadata": {
    "colab": {},
    "colab_type": "code",
    "id": "e-90FjK3Kl8k"
   },
   "outputs": [],
   "source": [
    "# # shuffle rows in df\n",
    "# comb_shuffle_df =comb_ppd_disp_df.sample(frac=1).reset_index(drop=True)"
   ]
  }
 ],
 "metadata": {
  "colab": {
   "collapsed_sections": [],
   "name": "wc_settle_pipe.ipynb",
   "provenance": []
  },
  "kernelspec": {
   "display_name": "Python 3",
   "language": "python",
   "name": "python3"
  },
  "language_info": {
   "codemirror_mode": {
    "name": "ipython",
    "version": 3
   },
   "file_extension": ".py",
   "mimetype": "text/x-python",
   "name": "python",
   "nbconvert_exporter": "python",
   "pygments_lexer": "ipython3",
   "version": "3.6.7"
  }
 },
 "nbformat": 4,
 "nbformat_minor": 1
}
